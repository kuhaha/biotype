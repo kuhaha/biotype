{
 "cells": [
  {
   "cell_type": "code",
   "execution_count": 1,
   "id": "7fbc0d34",
   "metadata": {},
   "outputs": [],
   "source": [
    "import pylab\n",
    "import matplotlib.pyplot as plt\n",
    "import numpy as np\n",
    "import algorithms as algo"
   ]
  },
  {
   "cell_type": "code",
   "execution_count": 13,
   "id": "ef09e369",
   "metadata": {},
   "outputs": [
    {
     "name": "stdout",
     "output_type": "stream",
     "text": [
      "datasets/export/L186_0_A11_1.txt\n"
     ]
    },
    {
     "data": {
      "text/html": [
       "<div>\n",
       "<style scoped>\n",
       "    .dataframe tbody tr th:only-of-type {\n",
       "        vertical-align: middle;\n",
       "    }\n",
       "\n",
       "    .dataframe tbody tr th {\n",
       "        vertical-align: top;\n",
       "    }\n",
       "\n",
       "    .dataframe thead th {\n",
       "        text-align: right;\n",
       "    }\n",
       "</style>\n",
       "<table border=\"1\" class=\"dataframe\">\n",
       "  <thead>\n",
       "    <tr style=\"text-align: right;\">\n",
       "      <th></th>\n",
       "      <th>m/z</th>\n",
       "      <th>intensity</th>\n",
       "    </tr>\n",
       "  </thead>\n",
       "  <tbody>\n",
       "    <tr>\n",
       "      <th>0</th>\n",
       "      <td>997.552</td>\n",
       "      <td>6966</td>\n",
       "    </tr>\n",
       "    <tr>\n",
       "      <th>1</th>\n",
       "      <td>997.646</td>\n",
       "      <td>6942</td>\n",
       "    </tr>\n",
       "    <tr>\n",
       "      <th>2</th>\n",
       "      <td>997.741</td>\n",
       "      <td>7003</td>\n",
       "    </tr>\n",
       "    <tr>\n",
       "      <th>3</th>\n",
       "      <td>997.836</td>\n",
       "      <td>7068</td>\n",
       "    </tr>\n",
       "    <tr>\n",
       "      <th>4</th>\n",
       "      <td>997.931</td>\n",
       "      <td>7122</td>\n",
       "    </tr>\n",
       "  </tbody>\n",
       "</table>\n",
       "</div>"
      ],
      "text/plain": [
       "       m/z  intensity\n",
       "0  997.552       6966\n",
       "1  997.646       6942\n",
       "2  997.741       7003\n",
       "3  997.836       7068\n",
       "4  997.931       7122"
      ]
     },
     "execution_count": 13,
     "metadata": {},
     "output_type": "execute_result"
    }
   ],
   "source": [
    "import pandas as pd\n",
    "dataset='datasets/export'\n",
    "files = [\"L185_0_A9_1\", \"L185_0_A10_1\",\n",
    "         \"L186_0_A11_1\",\"L186_0_A12_1\",\n",
    "         \"L187_0_B1_1\", \"L187_0_B2_1\",\n",
    "         \"L291_0_A1_1\", \"L291_0_A2_1\",\n",
    "        ]\n",
    "i = 2\n",
    "print(f\"{dataset}/{files[i]}.txt\")\n",
    "df= pd.read_table(f\"{dataset}/{files[i]}.txt\",\n",
    "                  sep=\" \", \n",
    "                  header=None,\n",
    "                  names=['m/z', 'intensity']) \n",
    "df.head()"
   ]
  },
  {
   "cell_type": "code",
   "execution_count": 3,
   "id": "10715735-ea84-496d-8e2a-cbf0c6294de9",
   "metadata": {},
   "outputs": [
    {
     "name": "stdout",
     "output_type": "stream",
     "text": [
      "[997.552 997.646 997.741 997.836 997.931]\n",
      "[6279 6207 6192 6163 6157]\n"
     ]
    }
   ],
   "source": [
    "x = df['m/z'].to_numpy()\n",
    "y = df['intensity'].to_numpy()\n",
    "print(x[:5])\n",
    "print(y[:5])"
   ]
  },
  {
   "cell_type": "markdown",
   "id": "1f9b43e9-b055-463f-98a3-4d06bd8adeaa",
   "metadata": {},
   "source": [
    "# Robust Peak Detection (with Z-Scores)"
   ]
  },
  {
   "cell_type": "code",
   "execution_count": 4,
   "id": "b79625de",
   "metadata": {},
   "outputs": [
    {
     "data": {
      "text/plain": [
       "(-1.5, 1.5)"
      ]
     },
     "execution_count": 4,
     "metadata": {},
     "output_type": "execute_result"
    },
    {
     "data": {
      "image/png": "[encoded data removed]",
      "text/plain": [
       "<Figure size 432x288 with 2 Axes>"
      ]
     },
     "metadata": {
      "needs_background": "light"
     },
     "output_type": "display_data"
    }
   ],
   "source": [
    "# Settings: lag = 30, threshold = 5, influence = 0\n",
    "lag = 30\n",
    "threshold = 5\n",
    "influence = 0\n",
    "\n",
    "# Run algo with settings from above\n",
    "result = algo.thresholding_algo(y,\n",
    "    lag=lag, \n",
    "    threshold=threshold, \n",
    "    influence=influence\n",
    ")\n",
    "\n",
    "# Plot result\n",
    "pylab.subplot(211)\n",
    "pylab.plot(np.arange(1, len(y)+1), y)\n",
    "pylab.subplot(212)\n",
    "pylab.step(np.arange(1, len(y)+1), result[\"signals\"], color=\"red\", lw=2)\n",
    "pylab.ylim(-1.5, 1.5)"
   ]
  },
  {
   "cell_type": "markdown",
   "id": "e4cead4a",
   "metadata": {},
   "source": [
    "# SciPy: scipy.signal.find_peaks"
   ]
  },
  {
   "cell_type": "code",
   "execution_count": 5,
   "id": "ec358921",
   "metadata": {},
   "outputs": [],
   "source": [
    "from scipy.signal import find_peaks, peak_prominences"
   ]
  },
  {
   "cell_type": "code",
   "execution_count": 6,
   "id": "1df6d801",
   "metadata": {},
   "outputs": [
    {
     "name": "stdout",
     "output_type": "stream",
     "text": [
      "25\n"
     ]
    },
    {
     "data": {
      "image/png": "[encoded data removed]",
      "text/plain": [
       "<Figure size 432x288 with 1 Axes>"
      ]
     },
     "metadata": {
      "needs_background": "light"
     },
     "output_type": "display_data"
    }
   ],
   "source": [
    "peaks, _ = find_peaks(y,distance=800, height=10000)\n",
    "print(len(peaks))\n",
    "plt.plot(y)\n",
    "plt.plot(peaks, y[peaks], \"x\")\n",
    "plt.plot(np.zeros_like(y), \"--\", color=\"gray\")\n",
    "plt.show()"
   ]
  },
  {
   "cell_type": "code",
   "execution_count": 7,
   "id": "c305d16a",
   "metadata": {},
   "outputs": [
    {
     "data": {
      "text/plain": [
       "array([  4673.,   7871.,   6403.,   6750.,  11391.,   7017.,   9274.,\n",
       "         3611.,  13528.,  11740.,   6590.,  16596.,   8672.,  12311.,\n",
       "        45083.,  14030.,   6675., 107489.,   8094.,  10429.,  27050.,\n",
       "        10805.,  15395.,   9809., 100763.])"
      ]
     },
     "execution_count": 7,
     "metadata": {},
     "output_type": "execute_result"
    }
   ],
   "source": [
    "prominences = peak_prominences(y, peaks)[0]\n",
    "prominences"
   ]
  },
  {
   "cell_type": "code",
   "execution_count": 8,
   "id": "36929044",
   "metadata": {},
   "outputs": [
    {
     "data": {
      "image/png": "[encoded data removed]",
      "text/plain": [
       "<Figure size 432x288 with 1 Axes>"
      ]
     },
     "metadata": {
      "needs_background": "light"
     },
     "output_type": "display_data"
    }
   ],
   "source": [
    "contour_heights = y[peaks] - prominences\n",
    "plt.plot(y)\n",
    "plt.plot(peaks, y[peaks], \"x\")\n",
    "plt.vlines(x=peaks, ymin=contour_heights, ymax=y[peaks])\n",
    "plt.show()"
   ]
  },
  {
   "cell_type": "markdown",
   "id": "8cc7a713",
   "metadata": {},
   "source": [
    "# Persistent Topology for Peak Detection"
   ]
  },
  {
   "cell_type": "code",
   "execution_count": 9,
   "id": "d53701e7",
   "metadata": {},
   "outputs": [
    {
     "name": "stdout",
     "output_type": "stream",
     "text": [
      "0:25471,0,73215,None:\t109916\n",
      "1:44715,41386,47643,41385:\t101723\n",
      "2:22767,22485,23389,23390:\t48089\n",
      "3:32090,28298,35504,28297:\t29304\n",
      "4:16936,0,21880,21881:\t19946\n",
      "5:9922,0,15083,15084:\t19513\n",
      "6:36257,35573,37835,35572:\t17450\n",
      "7:23743,23393,24885,24886:\t17156\n",
      "8:19483,19041,21848,19040:\t14929\n",
      "9:13929,13583,14242,13582:\t16130\n",
      "10:5480,2163,8978,8979:\t19107\n",
      "11:34744,33244,35491,33243:\t13164\n"
     ]
    }
   ],
   "source": [
    "pt_peaks = algo.get_persistent_homology(y)\n",
    "for i, pk in enumerate(pt_peaks):\n",
    "    print(f'{i}:{pk.born},{pk.left},{pk.right},{pk.died}:\\t{y[pk.born]}')\n",
    "    if i > 10:\n",
    "        break"
   ]
  },
  {
   "cell_type": "code",
   "execution_count": 10,
   "id": "b3ef23f2",
   "metadata": {},
   "outputs": [
    {
     "name": "stdout",
     "output_type": "stream",
     "text": [
      "[1712, 1722, 3267, 3274, 4044, 4046, 4050, 4055, 4183, 4185]\n",
      "61\n"
     ]
    }
   ],
   "source": [
    "peaks = sorted([pk.born for pk in pt_peaks if y[pk.born]>15000] )\n",
    "print(peaks[:10])\n",
    "print(len(peaks))"
   ]
  },
  {
   "cell_type": "code",
   "execution_count": 11,
   "id": "2ac9b1fb",
   "metadata": {},
   "outputs": [
    {
     "data": {
      "image/png": "[encoded data removed]",
      "text/plain": [
       "<Figure size 432x288 with 1 Axes>"
      ]
     },
     "metadata": {
      "needs_background": "light"
     },
     "output_type": "display_data"
    }
   ],
   "source": [
    "plt.plot(y)\n",
    "plt.plot(peaks, y[peaks], \"x\")\n",
    "plt.plot(np.zeros_like(y), \"--\", color=\"gray\")\n",
    "plt.show()"
   ]
  },
  {
   "cell_type": "code",
   "execution_count": null,
   "id": "1938a634",
   "metadata": {},
   "outputs": [],
   "source": []
  }
 ],
 "metadata": {
  "kernelspec": {
   "display_name": "Python 3 (ipykernel)",
   "language": "python",
   "name": "python3"
  },
  "language_info": {
   "codemirror_mode": {
    "name": "ipython",
    "version": 3
   },
   "file_extension": ".py",
   "mimetype": "text/x-python",
   "name": "python",
   "nbconvert_exporter": "python",
   "pygments_lexer": "ipython3",
   "version": "3.9.6"
  }
 },
 "nbformat": 4,
 "nbformat_minor": 5
}

{
 "cells": [
  {
   "cell_type": "code",
   "execution_count": 1,
   "id": "7fbc0d34",
   "metadata": {
    "scrolled": false
   },
   "outputs": [],
   "source": [
    "import pylab\n",
    "import matplotlib.pyplot as plt\n",
    "from scipy import signal\n",
    "import numpy as np\n",
    "import algorithms as algo"
   ]
  },
  {
   "cell_type": "code",
   "execution_count": 2,
   "id": "ef09e369",
   "metadata": {
    "scrolled": false
   },
   "outputs": [
    {
     "name": "stdout",
     "output_type": "stream",
     "text": [
      "datasets/export/L186_0_A11_1.txt\n"
     ]
    },
    {
     "data": {
      "text/html": [
       "<div>\n",
       "<style scoped>\n",
       "    .dataframe tbody tr th:only-of-type {\n",
       "        vertical-align: middle;\n",
       "    }\n",
       "\n",
       "    .dataframe tbody tr th {\n",
       "        vertical-align: top;\n",
       "    }\n",
       "\n",
       "    .dataframe thead th {\n",
       "        text-align: right;\n",
       "    }\n",
       "</style>\n",
       "<table border=\"1\" class=\"dataframe\">\n",
       "  <thead>\n",
       "    <tr style=\"text-align: right;\">\n",
       "      <th></th>\n",
       "      <th>m/z</th>\n",
       "      <th>intensity</th>\n",
       "    </tr>\n",
       "  </thead>\n",
       "  <tbody>\n",
       "    <tr>\n",
       "      <th>0</th>\n",
       "      <td>997.552</td>\n",
       "      <td>6966</td>\n",
       "    </tr>\n",
       "    <tr>\n",
       "      <th>1</th>\n",
       "      <td>997.646</td>\n",
       "      <td>6942</td>\n",
       "    </tr>\n",
       "    <tr>\n",
       "      <th>2</th>\n",
       "      <td>997.741</td>\n",
       "      <td>7003</td>\n",
       "    </tr>\n",
       "    <tr>\n",
       "      <th>3</th>\n",
       "      <td>997.836</td>\n",
       "      <td>7068</td>\n",
       "    </tr>\n",
       "    <tr>\n",
       "      <th>4</th>\n",
       "      <td>997.931</td>\n",
       "      <td>7122</td>\n",
       "    </tr>\n",
       "  </tbody>\n",
       "</table>\n",
       "</div>"
      ],
      "text/plain": [
       "       m/z  intensity\n",
       "0  997.552       6966\n",
       "1  997.646       6942\n",
       "2  997.741       7003\n",
       "3  997.836       7068\n",
       "4  997.931       7122"
      ]
     },
     "execution_count": 2,
     "metadata": {},
     "output_type": "execute_result"
    }
   ],
   "source": [
    "import pandas as pd\n",
    "dataset='datasets/export'\n",
    "files = [\"L185_0_A9_1\", \"L185_0_A10_1\", \"L186_0_A11_1\",\"L186_0_A12_1\",\n",
    "         \"L187_0_B1_1\", \"L187_0_B2_1\",  \"L291_0_A1_1\", \"L291_0_A2_1\",\n",
    "        ]\n",
    "i = 2\n",
    "print(f\"{dataset}/{files[i]}.txt\")\n",
    "df= pd.read_table(f\"{dataset}/{files[i]}.txt\",\n",
    "                  sep=\" \", \n",
    "                  header=None,\n",
    "                  names=['m/z', 'intensity']) \n",
    "df.head()"
   ]
  },
  {
   "cell_type": "code",
   "execution_count": 3,
   "id": "10715735-ea84-496d-8e2a-cbf0c6294de9",
   "metadata": {
    "scrolled": false
   },
   "outputs": [
    {
     "name": "stdout",
     "output_type": "stream",
     "text": [
      "[997.552 997.646 997.741 997.836 997.931]\n",
      "[6966 6942 7003 7068 7122]\n"
     ]
    }
   ],
   "source": [
    "x = df['m/z'].to_numpy()\n",
    "y = df['intensity'].to_numpy()\n",
    "print(x[:5])\n",
    "print(y[:5])"
   ]
  },
  {
   "cell_type": "markdown",
   "id": "ff5cae0c",
   "metadata": {},
   "source": [
    "# SciPy: scipy.signal.find_peaks\n",
    "- `height` : Required height of peaks.\n",
    "- `distance`: Required threshold of peaks, the vertical distance to its neighboring samples.\n",
    "- `prominence`: Required minimal horizontal distance (>= 1) in samples between neighbouring peaks\n",
    "- `threshold` : Required prominence of peaks.\n",
    "- `width`: Required width of peaks in samples\n",
    "- `wlen` : Used for calculation of the peaks prominences, if one of `prominence` or `width` is given.\n",
    "- `rel_height`: Used for calculation of the peaks width, if `width` is given.\n",
    "- `plateau_size`: Required size of the flat top of peaks in samples."
   ]
  },
  {
   "cell_type": "code",
   "execution_count": 4,
   "id": "a502ed3b",
   "metadata": {
    "scrolled": false
   },
   "outputs": [
    {
     "data": {
      "image/png": "[encoded data removed]",
      "text/plain": [
       "<Figure size 432x288 with 1 Axes>"
      ]
     },
     "metadata": {
      "needs_background": "light"
     },
     "output_type": "display_data"
    }
   ],
   "source": [
    "# 基本的Peak検出\n",
    "\n",
    "dist, prom = 500, 3000\n",
    "peaks,_ = signal.find_peaks(y, distance=dist, prominence=prom)\n",
    "plt.xlabel(\"m/z\")\n",
    "plt.ylabel(\"intensity\")\n",
    "plt.plot(x, y, lw=1)\n",
    "plt.plot(x[peaks], y[peaks], \"rx\")\n",
    "plt.plot(x,np.zeros_like(y), \"--\", color=\"gray\")\n",
    "plt.show()"
   ]
  },
  {
   "cell_type": "code",
   "execution_count": 5,
   "id": "6a18f546",
   "metadata": {
    "scrolled": false
   },
   "outputs": [
    {
     "data": {
      "image/png": "[encoded data removed]",
      "text/plain": [
       "<Figure size 432x288 with 1 Axes>"
      ]
     },
     "metadata": {
      "needs_background": "light"
     },
     "output_type": "display_data"
    }
   ],
   "source": [
    "# 平滑化を適用\n",
    "\n",
    "window = 15\n",
    "deg = 2   \n",
    "smoothed = signal.savgol_filter(y, window, deg, deriv=0)\n",
    "peaks,_ = signal.find_peaks(smoothed, distance=dist, prominence=prom)\n",
    "\n",
    "plt.xlabel(\"m/z\")\n",
    "plt.ylabel(\"intensity\")\n",
    "plt.plot(x, smoothed, lw=1)\n",
    "plt.plot(x[peaks], smoothed[peaks], \"rx\")\n",
    "plt.plot(x, np.zeros_like(y), \"--\", color=\"gray\")\n",
    "plt.show()"
   ]
  },
  {
   "cell_type": "markdown",
   "id": "115e3917",
   "metadata": {},
   "source": [
    "# Baseline Correction"
   ]
  },
  {
   "cell_type": "markdown",
   "id": "6f351f37",
   "metadata": {},
   "source": [
    "## pybaselines · PyPI\n",
    "cf. https://github.com/derb12/pybaselines <br> \n",
    "A Python library of algorithms for the baseline correction of experimental data. `pybaselines` has 50+ baseline correction algorithms. \n",
    "- Polynomial methods (`pybaselines.polynomial`), \n",
    "- Whittaker-smoothing-based methods (`pybaselines.whittaker`), \n",
    "- Morphological methods (`pybaselines.morphological`), \n",
    "- Spline methods (`pybaselines.spline`) \n",
    "- Smoothing-based methods (`pybaselines.smooth`)\n",
    "- Baseline/Peak Classification methods (`pybaselines.classification`)\n",
    "- Optimizers (`pybaselines.optimizers`)\n",
    "- Miscellaneous methods (`pybaselines.misc`)"
   ]
  },
  {
   "cell_type": "code",
   "execution_count": 6,
   "id": "e5e527b3",
   "metadata": {
    "scrolled": false
   },
   "outputs": [],
   "source": [
    "from pybaselines import Baseline, utils\n",
    "# Erb, D. (2022). pybaselines: A Python library of algorithms for the baseline correction of experimental data. \n",
    "# https://doi.org/10.5281/zenodo.5608581."
   ]
  },
  {
   "cell_type": "code",
   "execution_count": 7,
   "id": "9b6bc1b9",
   "metadata": {
    "scrolled": false
   },
   "outputs": [],
   "source": [
    "# 様々なBaseline補正\n",
    "\n",
    "baseline_fitter = Baseline(x_data=x)\n",
    "bkg_1 = baseline_fitter.modpoly(y, poly_order=3)[0]\n",
    "bkg_2 = baseline_fitter.asls(y, lam=1e7, p=0.02)[0]\n",
    "bkg_3 = baseline_fitter.mor(y, half_window=30)[0]\n",
    "bkg_4 = baseline_fitter.snip(\n",
    "    y, max_half_window=40, decreasing=True, smooth_half_window=3\n",
    ")[0]"
   ]
  },
  {
   "cell_type": "code",
   "execution_count": 8,
   "id": "cc9efaee",
   "metadata": {
    "scrolled": false
   },
   "outputs": [
    {
     "data": {
      "image/png": "[encoded data removed]",
      "text/plain": [
       "<Figure size 432x288 with 1 Axes>"
      ]
     },
     "metadata": {
      "needs_background": "light"
     },
     "output_type": "display_data"
    }
   ],
   "source": [
    "plt.plot(x, y, label='raw data', lw=1)\n",
    "plt.plot(x, bkg_1, '--', label='modpoly')\n",
    "plt.plot(x, bkg_2, '--', label='asls')\n",
    "plt.plot(x, bkg_3, '--', label='mor')\n",
    "plt.plot(x, bkg_4, '--', label='snip')\n",
    "plt.legend()\n",
    "plt.show()"
   ]
  },
  {
   "cell_type": "code",
   "execution_count": 9,
   "id": "27d9d599",
   "metadata": {
    "scrolled": false
   },
   "outputs": [
    {
     "name": "stdout",
     "output_type": "stream",
     "text": [
      "total peaks=33\n"
     ]
    },
    {
     "data": {
      "image/png": "[encoded data removed]",
      "text/plain": [
       "<Figure size 432x288 with 1 Axes>"
      ]
     },
     "metadata": {
      "needs_background": "light"
     },
     "output_type": "display_data"
    }
   ],
   "source": [
    "# Baseline補正を適用したPeak検出\n",
    "\n",
    "dist, prom = 500, 3000\n",
    "z =  y - bkg_4\n",
    "peaks,_ = signal.find_peaks(z, distance=dist, prominence=prom)\n",
    "print(f\"total peaks={len(peaks)}\")\n",
    "plt.xlabel(\"m/z\")\n",
    "plt.ylabel(\"intensity\")\n",
    "plt.plot(x, z, lw=1)\n",
    "plt.plot(x[peaks], z[peaks], \"rx\")\n",
    "plt.plot(x,np.zeros_like(z), \"--\", color=\"gray\")\n",
    "plt.show()"
   ]
  },
  {
   "cell_type": "code",
   "execution_count": 10,
   "id": "2f8ea851",
   "metadata": {
    "scrolled": false
   },
   "outputs": [
    {
     "name": "stdout",
     "output_type": "stream",
     "text": [
      "[0,3000]\t peaks = 13\n",
      "[3000,6000]\t peaks = 11\n",
      "[6000,9000]\t peaks = 7\n",
      "[9000,12000]\t peaks = 2\n"
     ]
    }
   ],
   "source": [
    "for s in range(0,12000,3000):\n",
    "    n = len([p for p in peaks if s < x[p] < s+3000])\n",
    "    print(f\"[{s},{s+3000}]\\t peaks = {n}\")"
   ]
  },
  {
   "cell_type": "code",
   "execution_count": 11,
   "id": "68322bfa",
   "metadata": {
    "scrolled": true
   },
   "outputs": [],
   "source": [
    "# すべてのデータセットに対して、Peak検出を行う。\n",
    "# pybaselinesによるBaseline補正\n",
    "# 結果をpeaks_indという辞書に保存する\n",
    "\n",
    "peaks_in = dict()\n",
    "for file in files:\n",
    "#     print(f\"{dataset}/{file}.txt\")\n",
    "    df = None\n",
    "    df= pd.read_table(f\"{dataset}/{file}.txt\",\n",
    "                      sep=\" \", \n",
    "                      header=None,\n",
    "                      names=['m/z', 'intensity']) \n",
    "    x = df['m/z'].to_numpy()\n",
    "    y = df['intensity'].to_numpy()\n",
    "    window = 15\n",
    "    deg = 2   \n",
    "    smoothed = signal.savgol_filter(y, window, deg, deriv=0)\n",
    "    base_filter = Baseline(x_data=x)\n",
    "    bkg = base_filter.asls(y, lam=1e7, p=0.02)[0]\n",
    "    z = smoothed - bkg\n",
    "    peaks,_ = signal.find_peaks(z, distance=dist, prominence=prom)\n",
    "    \n",
    "    peaks_in[file] = (x[peaks], z[peaks]) \n",
    "#     plt.xlabel(\"m/z\")\n",
    "#     plt.ylabel(\"intensity\")\n",
    "#     plt.plot(x, z)\n",
    "#     plt.plot(x[peaks], z[peaks], \"rx\")\n",
    "#     plt.plot(x, np.zeros_like(y), \"--\", color=\"gray\")\n",
    "#     plt.show()"
   ]
  },
  {
   "cell_type": "code",
   "execution_count": 12,
   "id": "054a932e",
   "metadata": {
    "scrolled": false
   },
   "outputs": [
    {
     "name": "stdout",
     "output_type": "stream",
     "text": [
      "L185_0_A9_1のPeak数:\t40\n",
      "L185_0_A10_1のPeak数:\t39\n",
      "L186_0_A11_1のPeak数:\t34\n",
      "L186_0_A12_1のPeak数:\t30\n",
      "L187_0_B1_1のPeak数:\t20\n",
      "L187_0_B2_1のPeak数:\t23\n",
      "L291_0_A1_1のPeak数:\t11\n",
      "L291_0_A2_1のPeak数:\t26\n"
     ]
    }
   ],
   "source": [
    "for k in peaks_in:\n",
    "    print(f'{k}のPeak数:\\t{len(peaks_in[k][0])}')"
   ]
  },
  {
   "cell_type": "code",
   "execution_count": 13,
   "id": "e4b3e7df",
   "metadata": {},
   "outputs": [],
   "source": [
    "# m/zの値は精確ではないため、下記の関数で結果を丸める\n",
    "def fmt(f, d=1):\n",
    "    \"\"\" 実数を整数に丸める。d:桁数 d桁以内四捨五入 \n",
    "       例：fmt(3456.78,d=1) == 3460, fmt(3456.78,d=2) == 3500\n",
    "    \"\"\"\n",
    "    return round(int(f), -d)\n",
    "\n",
    "def pik(pk,d=1):\n",
    "    \"\"\" Peaksのm/z値を丸め、辞書にして返す\n",
    "    \"\"\"\n",
    "    npk =  ([fmt(x,d=d) for x in pk[0]],pk[1]) # m/zを丸める\n",
    "    return dict(zip(npk[0], npk[1]))"
   ]
  },
  {
   "cell_type": "code",
   "execution_count": 14,
   "id": "441bbfc6",
   "metadata": {},
   "outputs": [
    {
     "name": "stdout",
     "output_type": "stream",
     "text": [
      "L185_0_A9_1とL185_0_A10_1の共通Peak数:\t30\n",
      "L185_0_A10_1とL186_0_A11_1の共通Peak数:\t30\n",
      "L186_0_A11_1とL186_0_A12_1の共通Peak数:\t27\n",
      "L186_0_A12_1とL187_0_B1_1の共通Peak数:\t17\n",
      "L187_0_B1_1とL187_0_B2_1の共通Peak数:\t18\n",
      "L187_0_B2_1とL291_0_A1_1の共通Peak数:\t11\n",
      "L291_0_A1_1とL291_0_A2_1の共通Peak数:\t10\n"
     ]
    }
   ],
   "source": [
    "# 共通Peak数を調べる\n",
    "\n",
    "data = []\n",
    "n = len(files)\n",
    "for i in range(n-1):\n",
    "    p1,p2 = files[i], files[i+1]\n",
    "    pk1, pk2 = pik(peaks_in[p1]), pik(peaks_in[p2])\n",
    "    c = len(pk1.keys() & pk2.keys())\n",
    "    print(f'{p1}と{p2}の共通Peak数:\\t{c}')"
   ]
  },
  {
   "cell_type": "code",
   "execution_count": 15,
   "id": "26662f63",
   "metadata": {
    "scrolled": false
   },
   "outputs": [],
   "source": [
    "from BaselineRemoval import BaselineRemoval"
   ]
  },
  {
   "cell_type": "code",
   "execution_count": 16,
   "id": "fb085b7c",
   "metadata": {
    "scrolled": true
   },
   "outputs": [
    {
     "name": "stdout",
     "output_type": "stream",
     "text": [
      "L185_0_A9_1のPeak数:\t39\n",
      "L185_0_A10_1のPeak数:\t36\n",
      "L186_0_A11_1のPeak数:\t32\n",
      "L186_0_A12_1のPeak数:\t29\n",
      "L187_0_B1_1のPeak数:\t19\n",
      "L187_0_B2_1のPeak数:\t23\n",
      "L291_0_A1_1のPeak数:\t10\n",
      "L291_0_A2_1のPeak数:\t27\n"
     ]
    }
   ],
   "source": [
    "# すべてのデータセットに対して、Peak検出を行う。\n",
    "#  BaselineRemovalによるBaseline補正\n",
    "# 結果をpeaks_indという辞書に保存する\n",
    "\n",
    "peaks_in = {}\n",
    "for file in files:\n",
    "#     print(f\"{dataset}/{file}.txt\")\n",
    "    df = None\n",
    "    df= pd.read_table(f\"{dataset}/{file}.txt\",\n",
    "                      sep=\" \", \n",
    "                      header=None,\n",
    "                      names=['m/z', 'intensity']) \n",
    "    x = df['m/z'].to_numpy()\n",
    "    y = df['intensity'].to_numpy()\n",
    "    window = 15\n",
    "    deg = 2   \n",
    "    smoothed = signal.savgol_filter(y, window, deg, deriv=0)\n",
    "    brm = BaselineRemoval(smoothed)    \n",
    "    z = brm.ZhangFit(lambda_=100,repitition=15, porder=1)\n",
    "    peaks,_ = signal.find_peaks(z, distance=dist, prominence=prom)\n",
    "\n",
    "    peaks_in[file] = (x[peaks], z[peaks]) \n",
    "#     plt.xlabel(\"m/z\")\n",
    "#     plt.ylabel(\"intensity\")\n",
    "#     plt.plot(x, z)\n",
    "#     plt.plot(x[peaks], z[peaks], \"rx\")\n",
    "#     plt.plot(x, np.zeros_like(y), \"--\", color=\"gray\")\n",
    "#     plt.show()\n",
    "\n",
    "for k in peaks_in:\n",
    "    print(f'{k}のPeak数:\\t{len(peaks_in[k][0])}')"
   ]
  },
  {
   "cell_type": "code",
   "execution_count": 17,
   "id": "9e381e30",
   "metadata": {
    "scrolled": true
   },
   "outputs": [
    {
     "name": "stdout",
     "output_type": "stream",
     "text": [
      "L185_0_A9_1とL185_0_A10_1の共通Peak数:\t29\n",
      "L185_0_A10_1とL186_0_A11_1の共通Peak数:\t29\n",
      "L186_0_A11_1とL186_0_A12_1の共通Peak数:\t25\n",
      "L186_0_A12_1とL187_0_B1_1の共通Peak数:\t16\n",
      "L187_0_B1_1とL187_0_B2_1の共通Peak数:\t17\n",
      "L187_0_B2_1とL291_0_A1_1の共通Peak数:\t10\n",
      "L291_0_A1_1とL291_0_A2_1の共通Peak数:\t9\n"
     ]
    }
   ],
   "source": [
    "# 共通Peak数を調べる\n",
    "\n",
    "data = []\n",
    "n = len(files)\n",
    "for i in range(n-1):\n",
    "    p1,p2 = files[i], files[i+1]\n",
    "    pk1, pk2 = pik(peaks_in[p1]), pik(peaks_in[p2])\n",
    "    c = len(pk1.keys() & pk2.keys())\n",
    "    print(f'{p1}と{p2}の共通Peak数:\\t{c}')\n"
   ]
  },
  {
   "cell_type": "code",
   "execution_count": 18,
   "id": "758eec29",
   "metadata": {},
   "outputs": [],
   "source": [
    "# 類似度計算\n",
    "import math\n",
    "\n",
    "def jacard(pk1, pk2, weighted=False):\n",
    "    \"\"\" Jacard Similarity\n",
    "    \"\"\"\n",
    "    c =  pk1.keys() & pk2.keys()\n",
    "    d1 = pk1.keys() - pk2.keys()\n",
    "    d2 = pk2.keys() - pk1.keys()\n",
    "    n = len(c) + len(d1) + len(d2)\n",
    "    return len(c)/ float(n)"
   ]
  },
  {
   "cell_type": "code",
   "execution_count": 19,
   "id": "de590902",
   "metadata": {
    "scrolled": false
   },
   "outputs": [
    {
     "name": "stdout",
     "output_type": "stream",
     "text": [
      "Jacard Similarity:\n",
      "(0, 1, 0.6304347826086957)\n",
      "(0, 3, 0.6190476190476191)\n",
      "=========================\n",
      "(1, 2, 0.7435897435897436)\n",
      "(1, 3, 0.7105263157894737)\n",
      "=========================\n",
      "(2, 1, 0.7435897435897436)\n",
      "(2, 3, 0.6944444444444444)\n",
      "=========================\n",
      "(3, 1, 0.7105263157894737)\n",
      "(3, 2, 0.6944444444444444)\n",
      "=========================\n",
      "(4, 5, 0.68)\n",
      "(4, 7, 0.5862068965517241)\n",
      "=========================\n",
      "(5, 4, 0.68)\n",
      "(5, 7, 0.6666666666666666)\n",
      "=========================\n",
      "(6, 4, 0.5263157894736842)\n",
      "(6, 5, 0.43478260869565216)\n",
      "=========================\n",
      "(7, 5, 0.6666666666666666)\n",
      "(7, 2, 0.6388888888888888)\n",
      "=========================\n"
     ]
    }
   ],
   "source": [
    "# Compute Jacard Similarity \n",
    "\n",
    "n = len(files)\n",
    "\n",
    "print('Jacard Similarity:')\n",
    "for i in range(n):\n",
    "    rs = []\n",
    "    for j in range(n):\n",
    "        if i == j:\n",
    "            continue\n",
    "        p1,p2 = files[i], files[j]\n",
    "        pk1, pk2 = pik(peaks_in[p1]), pik(peaks_in[p2])\n",
    "        # print(f'{p1},\\t{p2}:{jacard(pk1, pk2)}')\n",
    "        similarity = jacard(pk1, pk2)\n",
    "        rs += [(i, j, similarity)]\n",
    "\n",
    "    t = sorted(rs, key=lambda x: x[2], reverse=True)\n",
    "    for k, x in enumerate(t):\n",
    "        print(x)\n",
    "        if k == 1:\n",
    "            break\n",
    "    print(\"=\" * 25)"
   ]
  },
  {
   "cell_type": "code",
   "execution_count": 20,
   "metadata": {},
   "outputs": [
    {
     "name": "stdout",
     "output_type": "stream",
     "text": [
      "1 1 3.0\n",
      "1 2 2.1022747547033283\n",
      "1 3 1.6192029220221178\n",
      "1 4 1.347425873177567\n",
      "1 5 1.1846528766287583\n",
      "2 2 2.0\n",
      "2 3 1.568941421369995\n",
      "2 4 1.2858695886887843\n",
      "2 5 1.1188544446061384\n",
      "3 3 1.6666666666666665\n",
      "3 4 1.3403699927985664\n",
      "3 5 1.1192029220221178\n",
      "4 4 1.5\n",
      "4 5 1.2133858658144394\n",
      "5 5 1.4\n"
     ]
    }
   ],
   "source": [
    "def rank(pk):\n",
    "    \"\"\" Ranking peaks by intensity\n",
    "      returns a new dict with rank for each m/z value \n",
    "    \"\"\"\n",
    "    return {key: rank for rank, key in enumerate(sorted(pk, key=pk.get, reverse=True), 1)}\n",
    "\n",
    "def sigmoid(x, y):\n",
    "    e = math.e\n",
    "    w = 1.50 - 1 / float(1+e**-abs(x-y))\n",
    "    p = 4/float(x+y) \n",
    "    return w + p\n",
    "\n",
    "def weighted_jacard(pk1, pk2):\n",
    "    \"\"\" \n",
    "    \"\"\"\n",
    "    m, n = len(pk1), len(pk2)\n",
    "    r1, r2 = rank(pk1), rank(pk2)\n",
    "    c =  r1.keys() & r2.keys()\n",
    "    scores =  [sigmoid(r1[mz], r2[mz]) for mz in c]\n",
    "    return sum(scores)\n",
    "            \n",
    "for i in range(1,6):\n",
    "    for j in range(i,6):\n",
    "        print(i,j,sigmoid(i,j))"
   ]
  },
  {
   "cell_type": "code",
   "execution_count": 21,
   "id": "28ca7be8",
   "metadata": {},
   "outputs": [
    {
     "name": "stdout",
     "output_type": "stream",
     "text": [
      "Weighted Jacard Similarity:\n",
      "(0, 3, 25.189656539290407)\n",
      "(0, 1, 25.09440891835143)\n",
      "=========================\n",
      "(1, 2, 27.432487818925235)\n",
      "(1, 0, 25.09440891835143)\n",
      "=========================\n",
      "(2, 1, 27.432487818925235)\n",
      "(2, 7, 23.85294649386511)\n",
      "=========================\n",
      "(3, 0, 25.189656539290407)\n",
      "(3, 1, 22.118732358735386)\n",
      "=========================\n",
      "(4, 5, 19.673168536772398)\n",
      "(4, 7, 18.24072966416488)\n",
      "=========================\n",
      "(5, 4, 19.673168536772398)\n",
      "(5, 7, 19.457910668141853)\n",
      "=========================\n",
      "(6, 5, 14.69756824715848)\n",
      "(6, 4, 13.399217895797394)\n",
      "=========================\n",
      "(7, 2, 23.85294649386511)\n",
      "(7, 1, 20.800556112722674)\n",
      "=========================\n"
     ]
    }
   ],
   "source": [
    "# Jacard Similarity \n",
    "\n",
    "n = len(files)\n",
    "print('Weighted Jacard Similarity:')\n",
    "for i in range(n):\n",
    "    rs = []\n",
    "    for j in range(n):\n",
    "        if i==j:\n",
    "            continue\n",
    "        p1,p2 = files[i], files[j]\n",
    "        pk1, pk2 = pik(peaks_in[p1]), pik(peaks_in[p2])\n",
    "        # print(f'{p1},\\t{p2}:{jacard(pk1, pk2)}')\n",
    "        similarity = weighted_jacard(pk1, pk2)\n",
    "        rs += [(i, j, similarity)]\n",
    "\n",
    "    t = sorted(rs, key=lambda x: x[2], reverse=True)\n",
    "    for k, x in enumerate(t):\n",
    "        print(x)\n",
    "        if k==1:\n",
    "            break\n",
    "    print(\"=\" * 25)"
   ]
  },
  {
   "cell_type": "code",
   "execution_count": null,
   "metadata": {},
   "outputs": [],
   "source": []
  }
 ],
 "metadata": {
  "kernelspec": {
   "display_name": "Python 3",
   "language": "python",
   "name": "python3"
  },
  "language_info": {
   "codemirror_mode": {
    "name": "ipython",
    "version": 3
   },
   "file_extension": ".py",
   "mimetype": "text/x-python",
   "name": "python",
   "nbconvert_exporter": "python",
   "pygments_lexer": "ipython3",
   "version": "3.8.5"
  }
 },
 "nbformat": 4,
 "nbformat_minor": 5
}

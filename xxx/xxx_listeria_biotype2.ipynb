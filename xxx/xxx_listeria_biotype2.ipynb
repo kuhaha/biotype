{
 "cells": [
  {
   "cell_type": "code",
   "execution_count": 1,
   "metadata": {
    "executionInfo": {
     "elapsed": 431,
     "status": "ok",
     "timestamp": 1671776061041,
     "user": {
      "displayName": "Cheng Kai",
      "userId": "11193234788139270863"
     },
     "user_tz": -540
    },
    "id": "kHsU8SsSUvRs",
    "scrolled": true
   },
   "outputs": [],
   "source": [
    "import os\n",
    "import pandas as pd\n",
    "import matplotlib.pyplot as plt\n",
    "from bokeh.plotting import figure, show\n",
    "from bokeh.io import output_notebook\n",
    "from bokeh.models import ColumnDataSource\n",
    "from bokeh.layouts import column\n",
    "\n",
    "from BaselineRemoval import BaselineRemoval\n",
    "from scipy import signal"
   ]
  },
  {
   "cell_type": "code",
   "execution_count": 2,
   "metadata": {
    "executionInfo": {
     "elapsed": 292,
     "status": "ok",
     "timestamp": 1671776104295,
     "user": {
      "displayName": "Cheng Kai",
      "userId": "11193234788139270863"
     },
     "user_tz": -540
    },
    "id": "RbFFM34XUphT",
    "scrolled": true
   },
   "outputs": [],
   "source": [
    "DATA_DIR_PATH = \"datasets/export\"\n",
    "META_DIR_PATH = \"datasets\""
   ]
  },
  {
   "cell_type": "code",
   "execution_count": 3,
   "metadata": {
    "scrolled": true
   },
   "outputs": [
    {
     "name": "stdout",
     "output_type": "stream",
     "text": [
      "['L001', 'L010', 'L011', 'L012', 'L013', 'L014', 'L100', 'L101', 'L102', 'L103', 'L104', 'L105', 'L106', 'L107', 'L108', 'L109', 'L110', 'L111', 'L112', 'L113', 'L114', 'L115', 'L116', 'L117', 'L118', 'L119', 'L120', 'L121', 'L122', 'L123', 'L124', 'L125', 'L126', 'L127', 'L128', 'L129', 'L130', 'L131', 'L132', 'L133', 'L134', 'L135', 'L136', 'L137', 'L138', 'L139', 'L140', 'L185', 'L186', 'L187', 'L291']\n"
     ]
    }
   ],
   "source": [
    "files = os.listdir(DATA_DIR_PATH)\n",
    "strains = [x[:4] for x in files]\n",
    "strains = sorted(list(set(strains)))\n",
    "print(strains)"
   ]
  },
  {
   "cell_type": "code",
   "execution_count": 4,
   "metadata": {
    "scrolled": true
   },
   "outputs": [
    {
     "data": {
      "text/html": [
       "<div>\n",
       "<style scoped>\n",
       "    .dataframe tbody tr th:only-of-type {\n",
       "        vertical-align: middle;\n",
       "    }\n",
       "\n",
       "    .dataframe tbody tr th {\n",
       "        vertical-align: top;\n",
       "    }\n",
       "\n",
       "    .dataframe thead th {\n",
       "        text-align: right;\n",
       "    }\n",
       "</style>\n",
       "<table border=\"1\" class=\"dataframe\">\n",
       "  <thead>\n",
       "    <tr style=\"text-align: right;\">\n",
       "      <th></th>\n",
       "      <th>菌株名</th>\n",
       "      <th>Serotype</th>\n",
       "      <th>血清型</th>\n",
       "    </tr>\n",
       "    <tr>\n",
       "      <th>Listeria Serial No.</th>\n",
       "      <th></th>\n",
       "      <th></th>\n",
       "      <th></th>\n",
       "    </tr>\n",
       "  </thead>\n",
       "  <tbody>\n",
       "    <tr>\n",
       "      <th>L001</th>\n",
       "      <td>LM1</td>\n",
       "      <td>1/2a</td>\n",
       "      <td>1/2a</td>\n",
       "    </tr>\n",
       "    <tr>\n",
       "      <th>L002</th>\n",
       "      <td>LM3</td>\n",
       "      <td>1/2a</td>\n",
       "      <td>1/2a</td>\n",
       "    </tr>\n",
       "    <tr>\n",
       "      <th>L003</th>\n",
       "      <td>LM4</td>\n",
       "      <td>4b</td>\n",
       "      <td>4b</td>\n",
       "    </tr>\n",
       "    <tr>\n",
       "      <th>L004</th>\n",
       "      <td>LM7</td>\n",
       "      <td>1/2a</td>\n",
       "      <td>1/2a</td>\n",
       "    </tr>\n",
       "    <tr>\n",
       "      <th>L005</th>\n",
       "      <td>LM8</td>\n",
       "      <td>1/2a</td>\n",
       "      <td>1/2a</td>\n",
       "    </tr>\n",
       "  </tbody>\n",
       "</table>\n",
       "</div>"
      ],
      "text/plain": [
       "                     菌株名 Serotype   血清型\n",
       "Listeria Serial No.                    \n",
       "L001                 LM1     1/2a  1/2a\n",
       "L002                 LM3     1/2a  1/2a\n",
       "L003                 LM4       4b    4b\n",
       "L004                 LM7     1/2a  1/2a\n",
       "L005                 LM8     1/2a  1/2a"
      ]
     },
     "execution_count": 4,
     "metadata": {},
     "output_type": "execute_result"
    }
   ],
   "source": [
    "meta = pd.read_csv(META_DIR_PATH + '/meta.csv', index_col=0,encoding='utf-8')\n",
    "meta[['菌株名','Serotype','血清型']].head()"
   ]
  },
  {
   "cell_type": "code",
   "execution_count": 12,
   "metadata": {
    "scrolled": false
   },
   "outputs": [
    {
     "name": "stdout",
     "output_type": "stream",
     "text": [
      "['L001' 'L010' 'L011' 'L012' 'L013' 'L014' 'L100' 'L101' 'L102' 'L103'\n",
      " 'L104' 'L105' 'L106' 'L107' 'L108' 'L109' 'L110' 'L111' 'L112' 'L113'\n",
      " 'L114' 'L115' 'L116' 'L117' 'L118' 'L119' 'L120' 'L121' 'L122' 'L123'\n",
      " 'L124' 'L125' 'L126' 'L127' 'L128' 'L129' 'L130' 'L131' 'L132' 'L133'\n",
      " 'L134' 'L135' 'L136' 'L137' 'L138' 'L139' 'L140']\n"
     ]
    },
    {
     "data": {
      "text/html": [
       "<div>\n",
       "<style scoped>\n",
       "    .dataframe tbody tr th:only-of-type {\n",
       "        vertical-align: middle;\n",
       "    }\n",
       "\n",
       "    .dataframe tbody tr th {\n",
       "        vertical-align: top;\n",
       "    }\n",
       "\n",
       "    .dataframe thead th {\n",
       "        text-align: right;\n",
       "    }\n",
       "</style>\n",
       "<table border=\"1\" class=\"dataframe\">\n",
       "  <thead>\n",
       "    <tr style=\"text-align: right;\">\n",
       "      <th></th>\n",
       "      <th>菌株名</th>\n",
       "      <th>Serotype</th>\n",
       "      <th>血清型</th>\n",
       "    </tr>\n",
       "    <tr>\n",
       "      <th>Listeria Serial No.</th>\n",
       "      <th></th>\n",
       "      <th></th>\n",
       "      <th></th>\n",
       "    </tr>\n",
       "  </thead>\n",
       "  <tbody>\n",
       "    <tr>\n",
       "      <th>L001</th>\n",
       "      <td>LM1</td>\n",
       "      <td>1/2a</td>\n",
       "      <td>1/2a</td>\n",
       "    </tr>\n",
       "    <tr>\n",
       "      <th>L010</th>\n",
       "      <td>LM13</td>\n",
       "      <td>1/2a</td>\n",
       "      <td>1/2a</td>\n",
       "    </tr>\n",
       "    <tr>\n",
       "      <th>L011</th>\n",
       "      <td>LM14</td>\n",
       "      <td>1/2a</td>\n",
       "      <td>1/2a</td>\n",
       "    </tr>\n",
       "    <tr>\n",
       "      <th>L012</th>\n",
       "      <td>LM15</td>\n",
       "      <td>1/2a</td>\n",
       "      <td>1/2a</td>\n",
       "    </tr>\n",
       "    <tr>\n",
       "      <th>L013</th>\n",
       "      <td>LM16</td>\n",
       "      <td>1/2c</td>\n",
       "      <td>1/2c</td>\n",
       "    </tr>\n",
       "  </tbody>\n",
       "</table>\n",
       "</div>"
      ],
      "text/plain": [
       "                      菌株名 Serotype   血清型\n",
       "Listeria Serial No.                     \n",
       "L001                  LM1     1/2a  1/2a\n",
       "L010                 LM13     1/2a  1/2a\n",
       "L011                 LM14     1/2a  1/2a\n",
       "L012                 LM15     1/2a  1/2a\n",
       "L013                 LM16     1/2c  1/2c"
      ]
     },
     "execution_count": 12,
     "metadata": {},
     "output_type": "execute_result"
    }
   ],
   "source": [
    "meta = meta.filter(items=strains, axis=0)\n",
    "meta[['菌株名','Serotype','血清型']].head()"
   ]
  },
  {
   "cell_type": "code",
   "execution_count": 13,
   "metadata": {},
   "outputs": [
    {
     "data": {
      "text/plain": [
       "'1/2a'"
      ]
     },
     "execution_count": 13,
     "metadata": {},
     "output_type": "execute_result"
    }
   ],
   "source": [
    "strains = meta.index.values\n",
    "file = 'L011_0_G12_1.txt'\n",
    "b_no = file[:4]\n",
    "serotype = meta[meta.index==b_no]['Serotype'].values[0]\n",
    "serotype"
   ]
  },
  {
   "cell_type": "code",
   "execution_count": 14,
   "metadata": {},
   "outputs": [
    {
     "name": "stdout",
     "output_type": "stream",
     "text": [
      "['L001_0_F3_1.txt', 'L001_0_F4_1.txt', 'L010_0_G10_1.txt', 'L010_0_G9_1.txt', 'L011_0_G11_1.txt', 'L011_0_G12_1.txt', 'L012_0_H1_1.txt', 'L012_0_H2_1.txt', 'L013_0_H3_1.txt', 'L013_0_H4_1.txt', 'L014_0_H5_1.txt', 'L014_0_H6_1.txt', 'L100_0_G7_1.txt', 'L100_0_G8_1.txt', 'L101_0_A1_1.txt', 'L101_0_A2_1.txt', 'L102_0_A3_1.txt', 'L102_0_A4_1.txt', 'L103_0_A5_1.txt', 'L103_0_A6_1.txt', 'L104_0_A7_1.txt', 'L104_0_A8_1.txt', 'L105_0_A10_1.txt', 'L105_0_A9_1.txt', 'L106_0_A11_1.txt', 'L106_0_A12_1.txt', 'L107_0_B1_1.txt', 'L107_0_B2_1.txt', 'L108_0_B3_1.txt', 'L108_0_B4_1.txt', 'L109_0_B5_1.txt', 'L109_0_B6_1.txt', 'L110_0_B7_1.txt', 'L110_0_B8_1.txt', 'L111_0_B10_1.txt', 'L111_0_B9_1.txt', 'L112_0_B11_1.txt', 'L112_0_B12_1.txt', 'L113_0_C1_1.txt', 'L113_0_C2_1.txt', 'L114_0_C3_1.txt', 'L114_0_C4_1.txt', 'L115_0_C5_1.txt', 'L115_0_C6_1.txt', 'L116_0_C7_1.txt', 'L116_0_C8_1.txt', 'L117_0_C10_1.txt', 'L117_0_C9_1.txt', 'L118_0_C11_1.txt', 'L118_0_C12_1.txt', 'L119_0_D1_1.txt', 'L119_0_D2_1.txt', 'L120_0_D3_1.txt', 'L120_0_D4_1.txt', 'L121_0_D5_1.txt', 'L121_0_D6_1.txt', 'L122_0_D7_1.txt', 'L122_0_D8_1.txt', 'L123_0_D10_1.txt', 'L123_0_D9_1.txt', 'L124_0_D11_1.txt', 'L124_0_D12_1.txt', 'L125_0_E1_1.txt', 'L125_0_E2_1.txt', 'L126_0_E3_1.txt', 'L126_0_E4_1.txt', 'L127_0_E5_1.txt', 'L127_0_E6_1.txt', 'L128_0_E7_1.txt', 'L128_0_E8_1.txt', 'L129_0_E10_1.txt', 'L129_0_E9_1.txt', 'L130_0_E11_1.txt', 'L130_0_E12_1.txt', 'L131_0_F1_1.txt', 'L131_0_F2_1.txt', 'L132_0_F3_1.txt', 'L132_0_F4_1.txt', 'L133_0_F5_1.txt', 'L133_0_F6_1.txt', 'L134_0_F7_1.txt', 'L134_0_F8_1.txt', 'L135_0_F10_1.txt', 'L135_0_F9_1.txt', 'L136_0_F11_1.txt', 'L136_0_F12_1.txt', 'L137_0_G1_1.txt', 'L137_0_G2_1.txt', 'L138_0_G3_1.txt', 'L138_0_G4_1.txt', 'L139_0_G5_1.txt', 'L139_0_G6_1.txt', 'L140_0_G7_1.txt', 'L140_0_G8_1.txt']\n"
     ]
    }
   ],
   "source": [
    "files = [ f for f in files if f[:4] in strains]\n",
    "print(files)"
   ]
  },
  {
   "cell_type": "code",
   "execution_count": 15,
   "metadata": {
    "scrolled": true
   },
   "outputs": [
    {
     "name": "stdout",
     "output_type": "stream",
     "text": [
      "CPU times: total: 0 ns\n",
      "Wall time: 0 ns\n",
      "Peak Detection with Smoothing and Baseline Correction\n",
      "L001_0_F3_1.txt: 1/2a \tpeaks: 61\n",
      "L001_0_F4_1.txt: 1/2a \tpeaks: 71\n",
      "L010_0_G10_1.txt: 1/2a \tpeaks: 64\n",
      "L010_0_G9_1.txt: 1/2a \tpeaks: 58\n",
      "L011_0_G11_1.txt: 1/2a \tpeaks: 63\n",
      "L011_0_G12_1.txt: 1/2a \tpeaks: 55\n",
      "L012_0_H1_1.txt: 1/2a \tpeaks: 64\n",
      "L012_0_H2_1.txt: 1/2a \tpeaks: 66\n",
      "L013_0_H3_1.txt: 1/2c \tpeaks: 65\n",
      "L013_0_H4_1.txt: 1/2c \tpeaks: 69\n",
      "L014_0_H5_1.txt: 4b \tpeaks: 57\n",
      "L014_0_H6_1.txt: 4b \tpeaks: 63\n",
      "L100_0_G7_1.txt: 1/2b \tpeaks: 55\n",
      "L100_0_G8_1.txt: 1/2b \tpeaks: 55\n",
      "L101_0_A1_1.txt: 1/2a \tpeaks: 57\n",
      "L101_0_A2_1.txt: 1/2a \tpeaks: 71\n",
      "L102_0_A3_1.txt: 1/2b \tpeaks: 66\n",
      "L102_0_A4_1.txt: 1/2b \tpeaks: 66\n",
      "L103_0_A5_1.txt: 1/2b \tpeaks: 62\n",
      "L103_0_A6_1.txt: 1/2b \tpeaks: 70\n",
      "L104_0_A7_1.txt: 1/2a \tpeaks: 67\n",
      "L104_0_A8_1.txt: 1/2a \tpeaks: 64\n",
      "L105_0_A10_1.txt: 1/2b \tpeaks: 67\n",
      "L105_0_A9_1.txt: 1/2b \tpeaks: 63\n",
      "L106_0_A11_1.txt: 1/2a \tpeaks: 60\n",
      "L106_0_A12_1.txt: 1/2a \tpeaks: 67\n",
      "L107_0_B1_1.txt: 1/2b \tpeaks: 64\n",
      "L107_0_B2_1.txt: 1/2b \tpeaks: 64\n",
      "L108_0_B3_1.txt: UT \tpeaks: 44\n",
      "L108_0_B4_1.txt: UT \tpeaks: 73\n",
      "L109_0_B5_1.txt: UT \tpeaks: 61\n",
      "L109_0_B6_1.txt: UT \tpeaks: 61\n",
      "L110_0_B7_1.txt: UT \tpeaks: 68\n",
      "L110_0_B8_1.txt: UT \tpeaks: 64\n",
      "L111_0_B10_1.txt: UT \tpeaks: 51\n",
      "L111_0_B9_1.txt: UT \tpeaks: 64\n",
      "L112_0_B11_1.txt: 1/2a \tpeaks: 60\n",
      "L112_0_B12_1.txt: 1/2a \tpeaks: 61\n",
      "L113_0_C1_1.txt: UT \tpeaks: 65\n",
      "L113_0_C2_1.txt: UT \tpeaks: 67\n",
      "L114_0_C3_1.txt: UT \tpeaks: 53\n",
      "L114_0_C4_1.txt: UT \tpeaks: 52\n",
      "L115_0_C5_1.txt: 3a \tpeaks: 59\n",
      "L115_0_C6_1.txt: 3a \tpeaks: 59\n",
      "L116_0_C7_1.txt: nan \tpeaks: 68\n",
      "L116_0_C8_1.txt: nan \tpeaks: 65\n",
      "L117_0_C10_1.txt: 1/2a \tpeaks: 58\n",
      "L117_0_C9_1.txt: 1/2a \tpeaks: 60\n",
      "L118_0_C11_1.txt: 1/2a \tpeaks: 57\n",
      "L118_0_C12_1.txt: 1/2a \tpeaks: 57\n",
      "L119_0_D1_1.txt: 1/2a \tpeaks: 70\n",
      "L119_0_D2_1.txt: 1/2a \tpeaks: 66\n",
      "L120_0_D3_1.txt: 1/2a \tpeaks: 64\n",
      "L120_0_D4_1.txt: 1/2a \tpeaks: 63\n",
      "L121_0_D5_1.txt: 1/2b \tpeaks: 70\n",
      "L121_0_D6_1.txt: 1/2b \tpeaks: 70\n",
      "L122_0_D7_1.txt: 1/2b \tpeaks: 60\n",
      "L122_0_D8_1.txt: 1/2b \tpeaks: 65\n",
      "L123_0_D10_1.txt: 1/2a \tpeaks: 66\n",
      "L123_0_D9_1.txt: 1/2a \tpeaks: 59\n",
      "L124_0_D11_1.txt: 1/2a \tpeaks: 65\n",
      "L124_0_D12_1.txt: 1/2a \tpeaks: 68\n",
      "L125_0_E1_1.txt: 1/2a \tpeaks: 61\n",
      "L125_0_E2_1.txt: 1/2a \tpeaks: 72\n",
      "L126_0_E3_1.txt: 1/2b \tpeaks: 64\n",
      "L126_0_E4_1.txt: 1/2b \tpeaks: 66\n",
      "L127_0_E5_1.txt: UT \tpeaks: 54\n",
      "L127_0_E6_1.txt: UT \tpeaks: 59\n",
      "L128_0_E7_1.txt: 1/2a \tpeaks: 65\n",
      "L128_0_E8_1.txt: 1/2a \tpeaks: 68\n",
      "L129_0_E10_1.txt: 1/2b \tpeaks: 64\n",
      "L129_0_E9_1.txt: 1/2b \tpeaks: 64\n",
      "L130_0_E11_1.txt: 1/2a \tpeaks: 62\n",
      "L130_0_E12_1.txt: 1/2a \tpeaks: 56\n",
      "L131_0_F1_1.txt: 1/2a \tpeaks: 68\n",
      "L131_0_F2_1.txt: 1/2a \tpeaks: 62\n",
      "L132_0_F3_1.txt: 4b \tpeaks: 63\n",
      "L132_0_F4_1.txt: 4b \tpeaks: 69\n",
      "L133_0_F5_1.txt: 4b \tpeaks: 63\n",
      "L133_0_F6_1.txt: 4b \tpeaks: 66\n",
      "L134_0_F7_1.txt: 4b \tpeaks: 55\n",
      "L134_0_F8_1.txt: 4b \tpeaks: 62\n",
      "L135_0_F10_1.txt: 4b \tpeaks: 64\n",
      "L135_0_F9_1.txt: 4b \tpeaks: 64\n",
      "L136_0_F11_1.txt: 4b \tpeaks: 51\n",
      "L136_0_F12_1.txt: 4b \tpeaks: 58\n",
      "L137_0_G1_1.txt: 4b \tpeaks: 66\n",
      "L137_0_G2_1.txt: 4b \tpeaks: 66\n",
      "L138_0_G3_1.txt: 1/2c \tpeaks: 68\n",
      "L138_0_G4_1.txt: 1/2c \tpeaks: 65\n",
      "L139_0_G5_1.txt: 1/2c \tpeaks: 66\n",
      "L139_0_G6_1.txt: 1/2c \tpeaks: 65\n",
      "L140_0_G7_1.txt: 1/2c \tpeaks: 62\n",
      "L140_0_G8_1.txt: 1/2c \tpeaks: 65\n"
     ]
    }
   ],
   "source": [
    "%time\n",
    "print ('Peak Detection with Smoothing and Baseline Correction')\n",
    "\n",
    "for file in files:\n",
    "    file_path = f\"{DATA_DIR_PATH}/{file}\"\n",
    "    df = pd.read_table(file_path, sep=\" \", header=None, names=['m/z', 'intensity']) \n",
    "    x, y = df['m/z'].to_numpy(), df['intensity'].to_numpy()\n",
    "    dist, prom = 500, 500\n",
    "    window, deg = 15, 2     \n",
    "    smoothed = signal.savgol_filter(y, window, deg, deriv=0)\n",
    "    brm = BaselineRemoval(smoothed)\n",
    "    z = brm.ZhangFit(lambda_=400,repitition=15, porder=1)\n",
    "    peaks,_ = signal.find_peaks(z, distance=dist, prominence=prom)\n",
    "    \n",
    "    b_no = file[:4]\n",
    "    serotype = meta[meta.index==b_no]['Serotype'].values[0]\n",
    "\n",
    "    print(f'{file}: {serotype} \\tpeaks: {len(peaks)}')\n",
    "\n",
    "# p = figure(x_axis_type=\"auto\", x_axis_label='m/z',y_axis_label='rel. intensity', width=600, height=400)\n",
    "# p.line(x, z, color=\"blue\",legend_label=f'{file}')\n",
    "# p.x(x[peaks], z[peaks], size=10, color=\"red\", alpha=0.5)\n",
    "# output_notebook()\n",
    "# show(p)"
   ]
  },
  {
   "cell_type": "code",
   "execution_count": null,
   "metadata": {},
   "outputs": [],
   "source": [
    "import similarity as sim\n",
    " "
   ]
  }
 ],
 "metadata": {
  "colab": {
   "authorship_tag": "ABX9TyPX5YHoqtmD/SXSxjKK4D0v",
   "provenance": []
  },
  "kernelspec": {
   "display_name": "Python 3 (ipykernel)",
   "language": "python",
   "name": "python3"
  },
  "language_info": {
   "codemirror_mode": {
    "name": "ipython",
    "version": 3
   },
   "file_extension": ".py",
   "mimetype": "text/x-python",
   "name": "python",
   "nbconvert_exporter": "python",
   "pygments_lexer": "ipython3",
   "version": "3.9.12"
  }
 },
 "nbformat": 4,
 "nbformat_minor": 1
}

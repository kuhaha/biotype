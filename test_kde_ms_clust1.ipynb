{
 "cells": [
  {
   "cell_type": "code",
   "execution_count": 10,
   "id": "a5d3ca92-9a0a-4107-9cc6-1bb6c8523dc0",
   "metadata": {},
   "outputs": [],
   "source": [
    "import os\n",
    "import pickle\n",
    "import numpy as np\n",
    "import pandas as pd\n",
    "from sklearn.neighbors import KernelDensity\n",
    "from scipy.signal import argrelextrema"
   ]
  },
  {
   "cell_type": "code",
   "execution_count": 11,
   "id": "50c73880-d865-4e23-9ce3-e6b2cd1847c6",
   "metadata": {},
   "outputs": [],
   "source": [
    "DATA_DIR_PATH = \"datasets/listeria\"\n",
    "META_DIR_PATH = \"datasets\"\n",
    "PEAK_DIR_PATH = \"datasets/extracted_peaks\""
   ]
  },
  {
   "cell_type": "code",
   "execution_count": 12,
   "id": "dfed297a-dd0c-470f-908a-f4b4171b2542",
   "metadata": {},
   "outputs": [
    {
     "name": "stdout",
     "output_type": "stream",
     "text": [
      "L100_0_G7_1.txt L100_0_G7_1\n",
      "L100_0_G8_1.txt L100_0_G8_1\n",
      "L101_0_A1_1.txt L101_0_A1_1\n",
      "L101_0_A2_1.txt L101_0_A2_1\n",
      "L102_0_A3_1.txt L102_0_A3_1\n"
     ]
    }
   ],
   "source": [
    "files =  os.listdir(DATA_DIR_PATH)\n",
    "files = [fn  for fn in files if fn.endswith(\".txt\")]\n",
    "files = sorted(files)\n",
    "for file in files[:5] :\n",
    "    print(file, file[:-4])"
   ]
  },
  {
   "cell_type": "code",
   "execution_count": 13,
   "id": "807e3c1a-3e42-439a-8530-a7aa6766fe01",
   "metadata": {},
   "outputs": [
    {
     "name": "stdout",
     "output_type": "stream",
     "text": [
      "L100_0_G7_1_peaks.pkl L100_0_G7_1\n",
      "L100_0_G8_1_peaks.pkl L100_0_G8_1\n",
      "L101_0_A1_1_peaks.pkl L101_0_A1_1\n",
      "L101_0_A2_1_peaks.pkl L101_0_A2_1\n",
      "L102_0_A3_1_peaks.pkl L102_0_A3_1\n"
     ]
    }
   ],
   "source": [
    "pk_files =  os.listdir(PEAK_DIR_PATH)\n",
    "pk_files = [fn  for fn in pk_files if fn.endswith(\".pkl\")]\n",
    "pk_files = sorted(pk_files)\n",
    "for file in pk_files[:5] :\n",
    "    print(file, file[:-10])"
   ]
  },
  {
   "cell_type": "code",
   "execution_count": 14,
   "id": "bca72745-19b4-4ed0-9c9c-6debd8483b0d",
   "metadata": {},
   "outputs": [
    {
     "name": "stdout",
     "output_type": "stream",
     "text": [
      "[1001.083 1007.932 1023.81  1044.463 1054.965]\n",
      "[1001.273 1008.122 1024.29  1045.046 1055.16 ]\n"
     ]
    }
   ],
   "source": [
    "extracted = []\n",
    "for file in files:\n",
    "    df = None\n",
    "    df = pd.read_table(f\"{DATA_DIR_PATH}/{file}\",sep=\" \", header=None,names=['m/z', 'intensity']) \n",
    "    x, y = df['m/z'].to_numpy(), df['intensity'].to_numpy()\n",
    "    pk_file = f\"{file[:-4]}_peaks.pkl\"\n",
    "    if pk_file not in pk_files:\n",
    "        continue\n",
    "    with open(f'{PEAK_DIR_PATH}/{pk_file}', 'rb') as peak_file:\n",
    "        peaks = pickle.load(peak_file)\n",
    "        # print(f'{file}, peaks: {len(peaks)}')\n",
    "        extracted +=  [(x[peaks], y[peaks]) ] \n",
    "\n",
    "print(extracted[0][0][:5])\n",
    "print(extracted[1][0][:5])"
   ]
  },
  {
   "cell_type": "code",
   "execution_count": 15,
   "id": "66f3c78d-8ebb-4130-aa67-ab1c1eccd732",
   "metadata": {},
   "outputs": [
    {
     "data": {
      "text/plain": [
       "array([20069., 20069., 20070., 20070., 20070., 20070., 20071., 20071.,\n",
       "       20072., 20074.])"
      ]
     },
     "execution_count": 15,
     "metadata": {},
     "output_type": "execute_result"
    }
   ],
   "source": [
    "X = np.concatenate([x[0] for x in extracted])\n",
    "# X = np.round(X, decimals=2)\n",
    "X = np.round(X) # round to integer\n",
    "X = np.sort(X)\n",
    "X[-10:]"
   ]
  },
  {
   "cell_type": "code",
   "execution_count": 16,
   "id": "f91a63b7-3e2f-4fa8-99dc-b503464519bc",
   "metadata": {},
   "outputs": [],
   "source": [
    "def kde_align2(X, kernel_=\"gaussian\", bandwidth_=100, n_samples_=4096, max_width_=3):\n",
    "    \"\"\"\n",
    "    kde_align2(): alignment of values in an ordered list, 1-d clustering \n",
    "    Params:\n",
    "      X: list[float], sorted list of m/z values to be aligned\n",
    "      kernel_: str, kernel to use\n",
    "      bandwidth_: float, bandwidth of the kernel, the larger the coarser / smoother  \n",
    "      n_samples_: number of samples to generate\n",
    "      max_width_: maximal tolerable width/diameter of a cluster\n",
    "    returns: list[tuple(float,float, int)], list of tuples (min, max, n_members)\n",
    "    \"\"\"\n",
    "    minval, maxval = X.min(), X.max()  \n",
    "    kde = KernelDensity(kernel= kernel_, bandwidth=bandwidth_).fit(X.reshape(-1,1))\n",
    "    s = np.linspace(minval, maxval, n_samples_)\n",
    "    e = kde.score_samples(s.reshape(-1,1))\n",
    "    mi = argrelextrema(e, np.less)[0]\n",
    "    b = np.append(s[mi], maxval)\n",
    "    groups = []\n",
    "    minval_ = minval\n",
    "    for v in b: \n",
    "        X_ = X[(X >= minval_) * (X < v)]\n",
    "        if len(X_) > 0:\n",
    "            if X_.max() - X_.min() <= max_width_:\n",
    "                groups.append((X_.min(),X_.max(), len(X_)))\n",
    "            else:\n",
    "                groups += kde_align2(X_, bandwidth_=bandwidth_*0.618, max_width_=max_width_)\n",
    "                \n",
    "            minval_ = v\n",
    "            \n",
    "    X_ = X[(X >= minval_)]\n",
    "    if len(X_) > 0:\n",
    "        groups.append((X_.min(),X_.max(), len(X_))) \n",
    "        \n",
    "    return groups\n"
   ]
  },
  {
   "cell_type": "code",
   "execution_count": 17,
   "id": "2bae38c9-e616-454c-8ed1-99e58a1e1679",
   "metadata": {},
   "outputs": [
    {
     "data": {
      "text/plain": [
       "4111"
      ]
     },
     "execution_count": 17,
     "metadata": {},
     "output_type": "execute_result"
    }
   ],
   "source": [
    "segments = kde_align2(X, bandwidth_=32, max_width_=3)\n",
    "len(segments)"
   ]
  },
  {
   "cell_type": "code",
   "execution_count": 18,
   "id": "7582f83f-f87e-4f86-967b-222b26235798",
   "metadata": {},
   "outputs": [
    {
     "name": "stdout",
     "output_type": "stream",
     "text": [
      "[(1001.0, 1002.0, 33),\n",
      " (1007.0, 1009.0, 74),\n",
      " (1017.0, 1017.0, 12),\n",
      " (1018.0, 1018.0, 2),\n",
      " (1023.0, 1023.0, 2),\n",
      " (1024.0, 1024.0, 30),\n",
      " (1025.0, 1025.0, 12),\n",
      " (1032.0, 1033.0, 3),\n",
      " (1044.0, 1047.0, 52),\n",
      " (1049.0, 1049.0, 1),\n",
      " (1053.0, 1054.0, 32),\n",
      " (1055.0, 1055.0, 67),\n",
      " (1056.0, 1056.0, 2),\n",
      " (1062.0, 1065.0, 32),\n",
      " (1066.0, 1066.0, 3),\n",
      " (1074.0, 1074.0, 1),\n",
      " (1075.0, 1075.0, 1),\n",
      " (1076.0, 1076.0, 2),\n",
      " (1077.0, 1078.0, 6),\n",
      " (1086.0, 1088.0, 36)]\n",
      "********************\n",
      "[(20027.0, 20027.0, 1),\n",
      " (20031.0, 20031.0, 1),\n",
      " (20035.0, 20035.0, 1),\n",
      " (20039.0, 20041.0, 4),\n",
      " (20043.0, 20045.0, 4),\n",
      " (20047.0, 20047.0, 1),\n",
      " (20048.0, 20048.0, 1),\n",
      " (20051.0, 20051.0, 1),\n",
      " (20055.0, 20058.0, 3),\n",
      " (20059.0, 20059.0, 2),\n",
      " (20062.0, 20063.0, 2),\n",
      " (20065.0, 20065.0, 1),\n",
      " (20066.0, 20066.0, 2),\n",
      " (20067.0, 20067.0, 3),\n",
      " (20068.0, 20068.0, 3),\n",
      " (20069.0, 20069.0, 10),\n",
      " (20070.0, 20070.0, 4),\n",
      " (20071.0, 20071.0, 2),\n",
      " (20072.0, 20072.0, 1),\n",
      " (20074.0, 20074.0, 1)]\n"
     ]
    }
   ],
   "source": [
    "from pprint import pprint \n",
    "pprint(segments[:20])\n",
    "print(\"*\" * 20)\n",
    "pprint(segments[-20:])"
   ]
  },
  {
   "cell_type": "code",
   "execution_count": null,
   "id": "57f5484d-3f6f-4875-b63c-e54b8921dcb5",
   "metadata": {},
   "outputs": [],
   "source": []
  }
 ],
 "metadata": {
  "kernelspec": {
   "display_name": "Python 3 (ipykernel)",
   "language": "python",
   "name": "python3"
  },
  "language_info": {
   "codemirror_mode": {
    "name": "ipython",
    "version": 3
   },
   "file_extension": ".py",
   "mimetype": "text/x-python",
   "name": "python",
   "nbconvert_exporter": "python",
   "pygments_lexer": "ipython3",
   "version": "3.9.7"
  }
 },
 "nbformat": 4,
 "nbformat_minor": 5
}

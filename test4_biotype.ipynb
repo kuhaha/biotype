{
 "cells": [
  {
   "cell_type": "code",
   "execution_count": 1,
   "id": "308fb6dd",
   "metadata": {},
   "outputs": [],
   "source": [
    "import os\n",
    "import pandas as pd\n",
    "import pickle\n",
    "import biotype.similarity as sim"
   ]
  },
  {
   "cell_type": "code",
   "execution_count": 2,
   "id": "c8d92aba",
   "metadata": {},
   "outputs": [],
   "source": [
    "DATA_DIR_PATH = \"datasets/export\"\n",
    "META_DIR_PATH = \"doc\"\n",
    "PEAK_DIR_PATH = \"extracted_peaks\"\n",
    "files =  os.listdir(DATA_DIR_PATH)\n",
    "files = [fn  for fn in files if fn.endswith(\".txt\")]\n",
    "files = sorted(files)"
   ]
  },
  {
   "cell_type": "code",
   "execution_count": 3,
   "id": "c45719cb",
   "metadata": {},
   "outputs": [],
   "source": [
    "meta = pd.read_csv(META_DIR_PATH + '/meta.csv', index_col=0,encoding='utf-8')\n",
    "serotype = meta['血清型'].to_dict()"
   ]
  },
  {
   "cell_type": "code",
   "execution_count": 4,
   "id": "4cd58c13",
   "metadata": {
    "scrolled": true
   },
   "outputs": [
    {
     "name": "stdout",
     "output_type": "stream",
     "text": [
      "L100_0_G7_1 (1/2b) peaks: 208\n",
      "L100_0_G8_1 (1/2b) peaks: 226\n",
      "L101_0_A1_1 (1/2a) peaks: 226\n",
      "L101_0_A2_1 (1/2a) peaks: 195\n",
      "L102_0_A3_1 (1/2b) peaks: 208\n",
      "L102_0_A4_1 (1/2b) peaks: 200\n",
      "L103_0_A5_1 (1/2b) peaks: 192\n",
      "L103_0_A6_1 (1/2b) peaks: 188\n",
      "L104_0_A7_1 (1/2a) peaks: 193\n",
      "L104_0_A8_1 (1/2a) peaks: 221\n",
      "L105_0_A10_1 (1/2b) peaks: 186\n",
      "L105_0_A9_1 (1/2b) peaks: 204\n",
      "L106_0_A11_1 (1/2a) peaks: 208\n",
      "L106_0_A12_1 (1/2a) peaks: 196\n",
      "L107_0_B1_1 (1/2b) peaks: 190\n",
      "L107_0_B2_1 (1/2b) peaks: 195\n",
      "L108_0_B3_1 (UT) peaks: 213\n",
      "L108_0_B4_1 (UT) peaks: 186\n",
      "L109_0_B5_1 (UT) peaks: 214\n",
      "L109_0_B6_1 (UT) peaks: 205\n",
      "L10_0_G10_1 (NA) peaks: 189\n",
      "L10_0_G9_1 (NA) peaks: 197\n",
      "L110_0_B7_1 (UT) peaks: 190\n",
      "L110_0_B8_1 (UT) peaks: 203\n",
      "L111_0_B10_1 (UT) peaks: 240\n",
      "L111_0_B9_1 (UT) peaks: 214\n",
      "L112_0_B11_1 (1/2a) peaks: 226\n",
      "L112_0_B12_1 (1/2a) peaks: 223\n",
      "L113_0_C1_1 (UT) peaks: 202\n",
      "L113_0_C2_1 (UT) peaks: 210\n",
      "L114_0_C3_1 (UT) peaks: 289\n",
      "L114_0_C4_1 (UT) peaks: 265\n",
      "L115_0_C5_1 (3a) peaks: 207\n",
      "L115_0_C6_1 (3a) peaks: 195\n",
      "L116_0_C7_1 (nan) peaks: 201\n",
      "L116_0_C8_1 (nan) peaks: 201\n",
      "L117_0_C10_1 (1/2a) peaks: 233\n",
      "L117_0_C9_1 (1/2a) peaks: 206\n",
      "L118_0_C11_1 (1/2a) peaks: 189\n",
      "L118_0_C12_1 (1/2a) peaks: 215\n",
      "L119_0_D1_1 (1/2a) peaks: 202\n",
      "L119_0_D2_1 (1/2a) peaks: 198\n",
      "L11_0_G11_1 (NA) peaks: 203\n",
      "L11_0_G12_1 (NA) peaks: 225\n",
      "L120_0_D3_1 (1/2a) peaks: 191\n",
      "L120_0_D4_1 (1/2a) peaks: 197\n",
      "L121_0_D5_1 (1/2b) peaks: 193\n",
      "L121_0_D6_1 (1/2b) peaks: 180\n",
      "L122_0_D7_1 (1/2b) peaks: 211\n",
      "L122_0_D8_1 (1/2b) peaks: 200\n",
      "L123_0_D10_1 (1/2a) peaks: 194\n",
      "L123_0_D9_1 (1/2a) peaks: 205\n",
      "L124_0_D11_1 (1/2a) peaks: 226\n",
      "L124_0_D12_1 (1/2a) peaks: 186\n",
      "L125_0_E1_1 (1/2a) peaks: 211\n",
      "L125_0_E2_1 (1/2a) peaks: 192\n",
      "L126_0_E3_1 (1/2b) peaks: 191\n",
      "L126_0_E4_1 (1/2b) peaks: 194\n",
      "L127_0_E5_1 (UT) peaks: 209\n",
      "L127_0_E6_1 (UT) peaks: 186\n",
      "L128_0_E7_1 (1/2a) peaks: 198\n",
      "L128_0_E8_1 (1/2a) peaks: 189\n",
      "L129_0_E10_1 (1/2b) peaks: 185\n",
      "L129_0_E9_1 (1/2b) peaks: 186\n",
      "L12_0_H1_1 (NA) peaks: 188\n",
      "L12_0_H2_1 (NA) peaks: 182\n",
      "L130_0_E11_1 (1/2a) peaks: 232\n",
      "L130_0_E12_1 (1/2a) peaks: 195\n",
      "L131_0_F1_1 (1/2a) peaks: 201\n",
      "L131_0_F2_1 (1/2a) peaks: 218\n",
      "L132_0_F3_1 (4b) peaks: 206\n",
      "L132_0_F4_1 (4b) peaks: 187\n",
      "L133_0_F5_1 (4b) peaks: 201\n",
      "L133_0_F6_1 (4b) peaks: 191\n",
      "L134_0_F7_1 (4b) peaks: 240\n",
      "L134_0_F8_1 (4b) peaks: 214\n",
      "L135_0_F10_1 (4b) peaks: 218\n",
      "L135_0_F9_1 (4b) peaks: 205\n",
      "L136_0_F11_1 (4b) peaks: 230\n",
      "L136_0_F12_1 (4b) peaks: 212\n",
      "L137_0_G1_1 (4b) peaks: 217\n",
      "L137_0_G2_1 (4b) peaks: 194\n",
      "L138_0_G3_1 (1/2c) peaks: 194\n",
      "L138_0_G4_1 (1/2c) peaks: 196\n",
      "L139_0_G5_1 (1/2c) peaks: 201\n",
      "L139_0_G6_1 (1/2c) peaks: 200\n",
      "L13_0_H3_1 (NA) peaks: 193\n",
      "L13_0_H4_1 (NA) peaks: 196\n",
      "L140_0_G7_1 (1/2c) peaks: 218\n",
      "L140_0_G8_1 (1/2c) peaks: 203\n",
      "L14_0_H5_1 (NA) peaks: 216\n",
      "L14_0_H6_1 (NA) peaks: 218\n",
      "L185_0_A10_1 (NA) peaks: 199\n",
      "L185_0_A9_1 (NA) peaks: 197\n",
      "L186_0_A11_1 (NA) peaks: 208\n",
      "L186_0_A12_1 (NA) peaks: 220\n",
      "L187_0_B1_1 (NA) peaks: 205\n",
      "L187_0_B2_1 (NA) peaks: 220\n",
      "L1_0_F3_1 (NA) peaks: 204\n",
      "L1_0_F4_1 (NA) peaks: 182\n",
      "L291_0_A1_1 (NA) peaks: 221\n",
      "L291_0_A2_1 (NA) peaks: 200\n"
     ]
    }
   ],
   "source": [
    "peaks_extracted = []\n",
    "n = len(files)\n",
    "for i in range(n):\n",
    "    df = None\n",
    "    df = pd.read_table(f\"{DATA_DIR_PATH}/{files[i]}\",sep=\" \", header=None,names=['m/z', 'intensity']) \n",
    "    x, y = df['m/z'].to_numpy(), df['intensity'].to_numpy()\n",
    "\n",
    "    pickle_file = files[i][:-4] # trim '.txt'\n",
    "    with open(f'{PEAK_DIR_PATH}/{pickle_file}_peaks.pkl', 'rb') as peak_file:\n",
    "        peaks = pickle.load(peak_file)\n",
    "        st = serotype.get(files[i][:4],'NA')\n",
    "        print(f'{pickle_file} ({st}) peaks: {len(peaks)}')\n",
    "        peaks_extracted +=  [(x[peaks], y[peaks]) ] "
   ]
  },
  {
   "cell_type": "code",
   "execution_count": 19,
   "id": "c456a575",
   "metadata": {},
   "outputs": [],
   "source": [
    "def biotype(peaks, algo=\"jaccard\", topn=1):\n",
    "    rs = []\n",
    "    for i in range(n-1):\n",
    "        for j in range(i+1,n):\n",
    "            score = sim.similar_to(peaks[i], peaks[j], method=algo, rank=2)\n",
    "            rs += [(i, j, score)]\n",
    "\n",
    "    rs += [(_j,_i,_s) for _i,_j,_s in rs ]\n",
    "    hit = 0\n",
    "    for i in range(n):\n",
    "        rs_ = [(_i,_j,_s) for _i,_j,_s in rs if _i==i]\n",
    "        rs_ = sorted(rs_, key=lambda x: x[2], reverse=True)\n",
    "        for k in range(topn):\n",
    "            if k >= len(rs_):\n",
    "                break\n",
    "            _i, _j , _s = rs_[k]\n",
    "            tag = '*' if files[_i][:4]==files[_j][:4] else '' # tag the same strain id\n",
    "            if tag=='*':\n",
    "                hit = hit + 1\n",
    "    return hit"
   ]
  },
  {
   "cell_type": "code",
   "execution_count": 20,
   "id": "45e21216",
   "metadata": {
    "scrolled": true
   },
   "outputs": [
    {
     "name": "stdout",
     "output_type": "stream",
     "text": [
      "Jaccard Similarity\n",
      "  n=102, top2=24, hit rate: 0.235\n",
      "Rank Similarity\n",
      "  n=102, top2=29, hit rate: 0.284\n",
      "Weighted Rank Similarity\n",
      "  n=102, top2=31, hit rate: 0.304\n"
     ]
    }
   ],
   "source": [
    "topn = 1 # 類似度の高さがTop 1位のみ、正解と認める\n",
    "algos = {'jaccard':'Jaccard Similarity', 'rank':'Rank Similarity', 'weighted': 'Weighted Rank Similarity'}\n",
    "for algo in algos:\n",
    "    print(algos[algo])\n",
    "    hit = biotype(peaks_extracted, algo, topn)\n",
    "    print(f\"  n={n}, top2={hit}, hit rate:{hit/n: .3f}\")"
   ]
  },
  {
   "cell_type": "code",
   "execution_count": 21,
   "id": "f0ee4a05",
   "metadata": {
    "scrolled": false
   },
   "outputs": [
    {
     "name": "stdout",
     "output_type": "stream",
     "text": [
      "Jaccard Similarity\n",
      "  n=102, top2=39, hit rate: 0.382\n",
      "Rank Similarity\n",
      "  n=102, top2=36, hit rate: 0.353\n",
      "Weighted Rank Similarity\n",
      "  n=102, top2=42, hit rate: 0.412\n"
     ]
    }
   ],
   "source": [
    "topn = 2 # 類似度の高さがTop 2位以内なら、正解と認める\n",
    "algos = {'jaccard':'Jaccard Similarity', 'rank':'Rank Similarity', 'weighted': 'Weighted Rank Similarity'}\n",
    "for algo in algos:\n",
    "    print(algos[algo])\n",
    "    hit = biotype(peaks_extracted, algo, topn)\n",
    "    print(f\"  n={n}, top2={hit}, hit rate:{hit/n: .3f}\")"
   ]
  },
  {
   "cell_type": "code",
   "execution_count": 22,
   "id": "2a4cd337",
   "metadata": {
    "scrolled": false
   },
   "outputs": [
    {
     "name": "stdout",
     "output_type": "stream",
     "text": [
      "Jaccard Similarity\n",
      "  n=102, top2=49, hit rate: 0.480\n",
      "Rank Similarity\n",
      "  n=102, top2=44, hit rate: 0.431\n",
      "Weighted Rank Similarity\n",
      "  n=102, top2=46, hit rate: 0.451\n"
     ]
    }
   ],
   "source": [
    "topn = 3 # 類似度の高さがTop 3位以内なら、正解と認める\n",
    "algos = {'jaccard':'Jaccard Similarity', 'rank':'Rank Similarity', 'weighted': 'Weighted Rank Similarity'}\n",
    "for algo in algos:\n",
    "    print(algos[algo])\n",
    "    hit = biotype(peaks_extracted, algo, topn)\n",
    "    print(f\"  n={n}, top2={hit}, hit rate:{hit/n: .3f}\")"
   ]
  },
  {
   "cell_type": "code",
   "execution_count": 23,
   "id": "a38c632d",
   "metadata": {},
   "outputs": [
    {
     "name": "stdout",
     "output_type": "stream",
     "text": [
      "Jaccard Similarity\n",
      "  n=102, top2=57, hit rate: 0.559\n",
      "Rank Similarity\n",
      "  n=102, top2=49, hit rate: 0.480\n",
      "Weighted Rank Similarity\n",
      "  n=102, top2=51, hit rate: 0.500\n"
     ]
    }
   ],
   "source": [
    "topn = 4  # 類似度の高さがTop 4位以内なら、正解と認める\n",
    "algos = {'jaccard':'Jaccard Similarity', 'rank':'Rank Similarity', 'weighted': 'Weighted Rank Similarity'}\n",
    "for algo in algos:\n",
    "    print(algos[algo])\n",
    "    hit = biotype(peaks_extracted, algo, topn)\n",
    "    print(f\"  n={n}, top2={hit}, hit rate:{hit/n: .3f}\")"
   ]
  },
  {
   "cell_type": "code",
   "execution_count": 24,
   "id": "77bf397a",
   "metadata": {},
   "outputs": [
    {
     "name": "stdout",
     "output_type": "stream",
     "text": [
      "Jaccard Similarity\n",
      "  n=102, top2=62, hit rate: 0.608\n",
      "Rank Similarity\n",
      "  n=102, top2=53, hit rate: 0.520\n",
      "Weighted Rank Similarity\n",
      "  n=102, top2=58, hit rate: 0.569\n"
     ]
    }
   ],
   "source": [
    "topn = 5  # 類似度の高さがTop 5位以内なら、正解と認める\n",
    "algos = {'jaccard':'Jaccard Similarity', 'rank':'Rank Similarity', 'weighted': 'Weighted Rank Similarity'}\n",
    "for algo in algos:\n",
    "    print(algos[algo])\n",
    "    hit = biotype(peaks_extracted, algo, topn)\n",
    "    print(f\"  n={n}, top2={hit}, hit rate:{hit/n: .3f}\")"
   ]
  },
  {
   "cell_type": "code",
   "execution_count": null,
   "id": "b8dbc039",
   "metadata": {},
   "outputs": [],
   "source": []
  }
 ],
 "metadata": {
  "kernelspec": {
   "display_name": "Python 3 (ipykernel)",
   "language": "python",
   "name": "python3"
  },
  "language_info": {
   "codemirror_mode": {
    "name": "ipython",
    "version": 3
   },
   "file_extension": ".py",
   "mimetype": "text/x-python",
   "name": "python",
   "nbconvert_exporter": "python",
   "pygments_lexer": "ipython3",
   "version": "3.9.6"
  }
 },
 "nbformat": 4,
 "nbformat_minor": 5
}

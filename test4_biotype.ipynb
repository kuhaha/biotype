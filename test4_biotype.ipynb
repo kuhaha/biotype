{
 "cells": [
  {
   "cell_type": "code",
   "execution_count": 1,
   "id": "308fb6dd",
   "metadata": {},
   "outputs": [],
   "source": [
    "import os\n",
    "import pandas as pd\n",
    "import pickle\n",
    "import biotype.similarity as sim"
   ]
  },
  {
   "cell_type": "code",
   "execution_count": 2,
   "id": "c8d92aba",
   "metadata": {},
   "outputs": [
    {
     "name": "stdout",
     "output_type": "stream",
     "text": [
      "L100_0_G7_1.txt\n",
      "L100_0_G8_1.txt\n",
      "L101_0_A1_1.txt\n",
      "L101_0_A2_1.txt\n",
      "L102_0_A3_1.txt\n"
     ]
    }
   ],
   "source": [
    "DATA_DIR_PATH = \"datasets/export\"\n",
    "META_DIR_PATH = \"doc\"\n",
    "PEAK_DIR_PATH = \"extracted_peaks\"\n",
    "files =  os.listdir(DATA_DIR_PATH)\n",
    "files = [fn  for fn in files if fn.endswith(\".txt\")]\n",
    "files = sorted(files)\n",
    "for file in files[:5] :\n",
    "    print(file)"
   ]
  },
  {
   "cell_type": "code",
   "execution_count": 11,
   "id": "10fe282b",
   "metadata": {},
   "outputs": [
    {
     "data": {
      "text/html": [
       "<div>\n",
       "<style scoped>\n",
       "    .dataframe tbody tr th:only-of-type {\n",
       "        vertical-align: middle;\n",
       "    }\n",
       "\n",
       "    .dataframe tbody tr th {\n",
       "        vertical-align: top;\n",
       "    }\n",
       "\n",
       "    .dataframe thead th {\n",
       "        text-align: right;\n",
       "    }\n",
       "</style>\n",
       "<table border=\"1\" class=\"dataframe\">\n",
       "  <thead>\n",
       "    <tr style=\"text-align: right;\">\n",
       "      <th></th>\n",
       "      <th>菌株名</th>\n",
       "      <th>血清型</th>\n",
       "    </tr>\n",
       "    <tr>\n",
       "      <th>MALDITOFMS\n",
       "Listeria serial No.</th>\n",
       "      <th></th>\n",
       "      <th></th>\n",
       "    </tr>\n",
       "  </thead>\n",
       "  <tbody>\n",
       "    <tr>\n",
       "      <th>L1</th>\n",
       "      <td>LM1</td>\n",
       "      <td>1/2a</td>\n",
       "    </tr>\n",
       "    <tr>\n",
       "      <th>L2</th>\n",
       "      <td>LM3</td>\n",
       "      <td>1/2a</td>\n",
       "    </tr>\n",
       "    <tr>\n",
       "      <th>L3</th>\n",
       "      <td>LM4</td>\n",
       "      <td>4b</td>\n",
       "    </tr>\n",
       "    <tr>\n",
       "      <th>L4</th>\n",
       "      <td>LM7</td>\n",
       "      <td>1/2a</td>\n",
       "    </tr>\n",
       "    <tr>\n",
       "      <th>L5</th>\n",
       "      <td>LM8</td>\n",
       "      <td>1/2a</td>\n",
       "    </tr>\n",
       "  </tbody>\n",
       "</table>\n",
       "</div>"
      ],
      "text/plain": [
       "                                 菌株名   血清型\n",
       "MALDITOFMS\\nListeria serial No.           \n",
       "L1                               LM1  1/2a\n",
       "L2                               LM3  1/2a\n",
       "L3                               LM4    4b\n",
       "L4                               LM7  1/2a\n",
       "L5                               LM8  1/2a"
      ]
     },
     "execution_count": 11,
     "metadata": {},
     "output_type": "execute_result"
    }
   ],
   "source": [
    "meta = pd.read_csv(META_DIR_PATH + '/meta.csv', index_col=0,encoding='utf-8')\n",
    "meta[['菌株名','血清型']].head()"
   ]
  },
  {
   "cell_type": "code",
   "execution_count": 12,
   "id": "c39efcc7",
   "metadata": {},
   "outputs": [],
   "source": [
    "serotype = meta['血清型'].to_dict()"
   ]
  },
  {
   "cell_type": "code",
   "execution_count": 14,
   "id": "4cd58c13",
   "metadata": {
    "scrolled": true
   },
   "outputs": [
    {
     "name": "stdout",
     "output_type": "stream",
     "text": [
      "L100_0_G7_1 (1/2b) peaks: 208\n",
      "L100_0_G8_1 (1/2b) peaks: 226\n",
      "L101_0_A1_1 (1/2a) peaks: 226\n",
      "L101_0_A2_1 (1/2a) peaks: 195\n",
      "L102_0_A3_1 (1/2b) peaks: 208\n",
      "L102_0_A4_1 (1/2b) peaks: 200\n",
      "L103_0_A5_1 (1/2b) peaks: 192\n",
      "L103_0_A6_1 (1/2b) peaks: 188\n",
      "L104_0_A7_1 (1/2a) peaks: 193\n",
      "L104_0_A8_1 (1/2a) peaks: 221\n",
      "L105_0_A10_1 (1/2b) peaks: 186\n",
      "L105_0_A9_1 (1/2b) peaks: 204\n",
      "L106_0_A11_1 (1/2a) peaks: 208\n",
      "L106_0_A12_1 (1/2a) peaks: 196\n",
      "L107_0_B1_1 (1/2b) peaks: 190\n",
      "L107_0_B2_1 (1/2b) peaks: 195\n",
      "L108_0_B3_1 (UT) peaks: 213\n",
      "L108_0_B4_1 (UT) peaks: 186\n",
      "L109_0_B5_1 (UT) peaks: 214\n",
      "L109_0_B6_1 (UT) peaks: 205\n",
      "L10_0_G10_1 (1/2a) peaks: 189\n",
      "L10_0_G9_1 (1/2a) peaks: 197\n",
      "L110_0_B7_1 (UT) peaks: 190\n",
      "L110_0_B8_1 (UT) peaks: 203\n",
      "L111_0_B10_1 (UT) peaks: 240\n",
      "L111_0_B9_1 (UT) peaks: 214\n",
      "L112_0_B11_1 (1/2a) peaks: 226\n",
      "L112_0_B12_1 (1/2a) peaks: 223\n",
      "L113_0_C1_1 (UT) peaks: 202\n",
      "L113_0_C2_1 (UT) peaks: 210\n",
      "L114_0_C3_1 (UT) peaks: 289\n",
      "L114_0_C4_1 (UT) peaks: 265\n",
      "L115_0_C5_1 (3a) peaks: 207\n",
      "L115_0_C6_1 (3a) peaks: 195\n",
      "L116_0_C7_1 (nan) peaks: 201\n",
      "L116_0_C8_1 (nan) peaks: 201\n",
      "L117_0_C10_1 (1/2a) peaks: 233\n",
      "L117_0_C9_1 (1/2a) peaks: 206\n",
      "L118_0_C11_1 (1/2a) peaks: 189\n",
      "L118_0_C12_1 (1/2a) peaks: 215\n",
      "L119_0_D1_1 (1/2a) peaks: 202\n",
      "L119_0_D2_1 (1/2a) peaks: 198\n",
      "L11_0_G11_1 (1/2a) peaks: 203\n",
      "L11_0_G12_1 (1/2a) peaks: 225\n",
      "L120_0_D3_1 (1/2a) peaks: 191\n",
      "L120_0_D4_1 (1/2a) peaks: 197\n",
      "L121_0_D5_1 (1/2b) peaks: 193\n",
      "L121_0_D6_1 (1/2b) peaks: 180\n",
      "L122_0_D7_1 (1/2b) peaks: 211\n",
      "L122_0_D8_1 (1/2b) peaks: 200\n",
      "L123_0_D10_1 (1/2a) peaks: 194\n",
      "L123_0_D9_1 (1/2a) peaks: 205\n",
      "L124_0_D11_1 (1/2a) peaks: 226\n",
      "L124_0_D12_1 (1/2a) peaks: 186\n",
      "L125_0_E1_1 (1/2a) peaks: 211\n",
      "L125_0_E2_1 (1/2a) peaks: 192\n",
      "L126_0_E3_1 (1/2b) peaks: 191\n",
      "L126_0_E4_1 (1/2b) peaks: 194\n",
      "L127_0_E5_1 (UT) peaks: 209\n",
      "L127_0_E6_1 (UT) peaks: 186\n",
      "L128_0_E7_1 (1/2a) peaks: 198\n",
      "L128_0_E8_1 (1/2a) peaks: 189\n",
      "L129_0_E10_1 (1/2b) peaks: 185\n",
      "L129_0_E9_1 (1/2b) peaks: 186\n",
      "L12_0_H1_1 (1/2a) peaks: 188\n",
      "L12_0_H2_1 (1/2a) peaks: 182\n",
      "L130_0_E11_1 (1/2a) peaks: 232\n",
      "L130_0_E12_1 (1/2a) peaks: 195\n",
      "L131_0_F1_1 (1/2a) peaks: 201\n",
      "L131_0_F2_1 (1/2a) peaks: 218\n",
      "L132_0_F3_1 (4b) peaks: 206\n",
      "L132_0_F4_1 (4b) peaks: 187\n",
      "L133_0_F5_1 (4b) peaks: 201\n",
      "L133_0_F6_1 (4b) peaks: 191\n",
      "L134_0_F7_1 (4b) peaks: 240\n",
      "L134_0_F8_1 (4b) peaks: 214\n",
      "L135_0_F10_1 (4b) peaks: 218\n",
      "L135_0_F9_1 (4b) peaks: 205\n",
      "L136_0_F11_1 (4b) peaks: 230\n",
      "L136_0_F12_1 (4b) peaks: 212\n",
      "L137_0_G1_1 (4b) peaks: 217\n",
      "L137_0_G2_1 (4b) peaks: 194\n",
      "L138_0_G3_1 (1/2c) peaks: 194\n",
      "L138_0_G4_1 (1/2c) peaks: 196\n",
      "L139_0_G5_1 (1/2c) peaks: 201\n",
      "L139_0_G6_1 (1/2c) peaks: 200\n",
      "L13_0_H3_1 (1/2c) peaks: 193\n",
      "L13_0_H4_1 (1/2c) peaks: 196\n",
      "L140_0_G7_1 (1/2c) peaks: 218\n",
      "L140_0_G8_1 (1/2c) peaks: 203\n",
      "L14_0_H5_1 (4b) peaks: 216\n",
      "L14_0_H6_1 (4b) peaks: 218\n",
      "L185_0_A10_1 (NA) peaks: 199\n",
      "L185_0_A9_1 (NA) peaks: 197\n",
      "L186_0_A11_1 (NA) peaks: 208\n",
      "L186_0_A12_1 (NA) peaks: 220\n",
      "L187_0_B1_1 (NA) peaks: 205\n",
      "L187_0_B2_1 (NA) peaks: 220\n",
      "L1_0_F3_1 (1/2a) peaks: 204\n",
      "L1_0_F4_1 (1/2a) peaks: 182\n",
      "L291_0_A1_1 (NA) peaks: 221\n",
      "L291_0_A2_1 (NA) peaks: 200\n"
     ]
    }
   ],
   "source": [
    "peaks_extracted = []\n",
    "n = len(files)\n",
    "N = 0\n",
    "for i in range(n):\n",
    "    df = None\n",
    "    df = pd.read_table(f\"{DATA_DIR_PATH}/{files[i]}\",sep=\" \", header=None,names=['m/z', 'intensity']) \n",
    "    x, y = df['m/z'].to_numpy(), df['intensity'].to_numpy()\n",
    "\n",
    "    pickle_file = files[i][:-4] # trim '.txt'\n",
    "    with open(f'{PEAK_DIR_PATH}/{pickle_file}_peaks.pkl', 'rb') as peak_file:\n",
    "        peaks = pickle.load(peak_file)\n",
    "        strain = files[i].split('_')[0]\n",
    "        stype = serotype.get(strain, 'NA')\n",
    "        N = N if stype == 'NA' else N+1\n",
    "        print(f'{pickle_file} ({stype}) peaks: {len(peaks)}')\n",
    "        peaks_extracted +=  [(x[peaks], y[peaks]) ] "
   ]
  },
  {
   "cell_type": "code",
   "execution_count": 15,
   "id": "c456a575",
   "metadata": {},
   "outputs": [],
   "source": [
    "def biotype(peaks, algo=\"jaccard\", topn=1, target='strain'):\n",
    "    \"\"\" compute pair-wise similarity by algorithm `algo` and report the `topn` hit ratio \n",
    "        by \"hit\" it means peak lists of the same strain id are smilar enough within topn \n",
    "        target: \n",
    "        　'strain'（菌株識別）類似する菌株が、菌株IDが同じかどうかを判定する\n",
    "        　'serotype'（菌種同定）類似する菌株が、菌種(血清型)が同じかどうかを判定する\n",
    "\"\"\"\n",
    "    rs = []\n",
    "    for i in range(n-1):\n",
    "        for j in range(i+1,n):\n",
    "            score = sim.similar_to(peaks[i], peaks[j], method=algo, rank=2)\n",
    "            rs += [(i, j, score)]\n",
    "\n",
    "    rs += [(_j,_i,_s) for _i,_j,_s in rs ]\n",
    "    hits = 0\n",
    "    for i in range(n):\n",
    "        rs_ = [(_i,_j,_s) for _i,_j,_s in rs if _i==i]\n",
    "        rs_ = sorted(rs_, key=lambda x: x[2], reverse=True)\n",
    "        hit = 0\n",
    "        for top in range(topn):\n",
    "            if top >= len(rs_):\n",
    "                break\n",
    "                \n",
    "            _i, _j , _s = rs_[top]            \n",
    "            strain1, strain2 = files[_i].split('_')[0], files[_j].split('_')[0] \n",
    "            stype1, stype2 = serotype.get(strain1, 'NA'), serotype.get(strain2, 'NA')\n",
    "            if target=='strain': \n",
    "                if strain1==strain2:\n",
    "                    hit = hit + 1\n",
    "            elif stype1==stype2 and stype1 != 'NA':\n",
    "                # print(f\"{files[_i][:-4]}:{stype1} + {files[_j][:-4]}:{stype2}\")\n",
    "                hit = hit + 1\n",
    "        if hit > 0:\n",
    "            hits = hits + 1\n",
    "            \n",
    "        # print(\"*\" * 30)        \n",
    "        \n",
    "    return hits"
   ]
  },
  {
   "cell_type": "code",
   "execution_count": 16,
   "id": "f1c2031f",
   "metadata": {},
   "outputs": [
    {
     "name": "stdout",
     "output_type": "stream",
     "text": [
      "hits=77, ratio=0.8191489361702128\n"
     ]
    }
   ],
   "source": [
    "topn = 2\n",
    "hits = biotype(peaks_extracted, 'jaccard', topn, target='serotype')\n",
    "print(f\"hits={hits}, ratio={hits/N}\")"
   ]
  },
  {
   "cell_type": "code",
   "execution_count": 17,
   "id": "45e21216",
   "metadata": {
    "scrolled": true
   },
   "outputs": [
    {
     "name": "stdout",
     "output_type": "stream",
     "text": [
      "target=strain, n=102\n",
      " - [jaccard] topn=1, hit=24, hit rate: 0.235\n",
      " - [jaccard] topn=2, hit=39, hit rate: 0.382\n",
      " - [jaccard] topn=3, hit=49, hit rate: 0.480\n",
      " - [jaccard] topn=4, hit=57, hit rate: 0.559\n",
      " - [jaccard] topn=5, hit=62, hit rate: 0.608\n",
      " - [rank] topn=1, hit=29, hit rate: 0.284\n",
      " - [rank] topn=2, hit=36, hit rate: 0.353\n",
      " - [rank] topn=3, hit=44, hit rate: 0.431\n",
      " - [rank] topn=4, hit=49, hit rate: 0.480\n",
      " - [rank] topn=5, hit=53, hit rate: 0.520\n",
      " - [weighted] topn=1, hit=31, hit rate: 0.304\n",
      " - [weighted] topn=2, hit=42, hit rate: 0.412\n",
      " - [weighted] topn=3, hit=46, hit rate: 0.451\n",
      " - [weighted] topn=4, hit=51, hit rate: 0.500\n",
      " - [weighted] topn=5, hit=58, hit rate: 0.569\n",
      "**************************************************\n",
      "target=serotype, n=102\n",
      " - [jaccard] topn=1, hit=60, hit rate: 0.638\n",
      " - [jaccard] topn=2, hit=77, hit rate: 0.819\n",
      " - [jaccard] topn=3, hit=86, hit rate: 0.915\n",
      " - [jaccard] topn=4, hit=91, hit rate: 0.968\n",
      " - [jaccard] topn=5, hit=91, hit rate: 0.968\n",
      " - [rank] topn=1, hit=65, hit rate: 0.691\n",
      " - [rank] topn=2, hit=75, hit rate: 0.798\n",
      " - [rank] topn=3, hit=81, hit rate: 0.862\n",
      " - [rank] topn=4, hit=83, hit rate: 0.883\n",
      " - [rank] topn=5, hit=87, hit rate: 0.926\n",
      " - [weighted] topn=1, hit=64, hit rate: 0.681\n",
      " - [weighted] topn=2, hit=74, hit rate: 0.787\n",
      " - [weighted] topn=3, hit=79, hit rate: 0.840\n",
      " - [weighted] topn=4, hit=80, hit rate: 0.851\n",
      " - [weighted] topn=5, hit=84, hit rate: 0.894\n",
      "**************************************************\n"
     ]
    }
   ],
   "source": [
    "algos = {'jaccard':'Jaccard Similarity', 'rank':'Rank Similarity', 'weighted': 'Weighted Rank Similarity'}\n",
    "stat = {'strain':[], 'serotype':[]}\n",
    "\n",
    "for target in ['strain', 'serotype']:\n",
    "    print(f\"target={target}, n={n}\")\n",
    "    size = n if target=='strain' else N  \n",
    "    for algo in algos:\n",
    "        for topn in range(1, 6):\n",
    "            hit = biotype(peaks_extracted, algo, topn, target)\n",
    "            stat[target].append( [topn, algo, hit] )\n",
    "            print(f\" - [{algo}] topn={topn}, hit={hit}, hit rate:{hit/size: .3f}\")\n",
    "\n",
    "    print(\"*\" * 50)"
   ]
  },
  {
   "cell_type": "code",
   "execution_count": 18,
   "id": "b7bb648a",
   "metadata": {},
   "outputs": [
    {
     "name": "stdout",
     "output_type": "stream",
     "text": [
      "{'strain': [[1, 'jaccard', 24], [2, 'jaccard', 39], [3, 'jaccard', 49], [4, 'jaccard', 57], [5, 'jaccard', 62], [1, 'rank', 29], [2, 'rank', 36], [3, 'rank', 44], [4, 'rank', 49], [5, 'rank', 53], [1, 'weighted', 31], [2, 'weighted', 42], [3, 'weighted', 46], [4, 'weighted', 51], [5, 'weighted', 58]], 'serotype': [[1, 'jaccard', 60], [2, 'jaccard', 77], [3, 'jaccard', 86], [4, 'jaccard', 91], [5, 'jaccard', 91], [1, 'rank', 65], [2, 'rank', 75], [3, 'rank', 81], [4, 'rank', 83], [5, 'rank', 87], [1, 'weighted', 64], [2, 'weighted', 74], [3, 'weighted', 79], [4, 'weighted', 80], [5, 'weighted', 84]]}\n"
     ]
    }
   ],
   "source": [
    "print(stat)"
   ]
  },
  {
   "cell_type": "code",
   "execution_count": 20,
   "id": "b8dbc039",
   "metadata": {},
   "outputs": [
    {
     "name": "stdout",
     "output_type": "stream",
     "text": [
      "strain\n",
      "  TopN   Jaccard      Rank  Weighted\n",
      "0    1  0.235294  0.284314  0.303922\n",
      "1    2  0.382353  0.352941  0.411765\n",
      "2    3  0.480392  0.431373   0.45098\n",
      "3    4  0.558824  0.480392       0.5\n",
      "4    5  0.607843  0.519608  0.568627\n",
      "serotype\n",
      "  TopN   Jaccard      Rank  Weighted\n",
      "0    1  0.638298  0.691489  0.680851\n",
      "1    2  0.819149  0.797872  0.787234\n",
      "2    3  0.914894  0.861702  0.840426\n",
      "3    4  0.968085  0.882979  0.851064\n",
      "4    5  0.968085  0.925532  0.893617\n"
     ]
    },
    {
     "data": {
      "image/png": "[encoded data removed]",
      "text/plain": [
       "<Figure size 432x288 with 1 Axes>"
      ]
     },
     "metadata": {
      "needs_background": "light"
     },
     "output_type": "display_data"
    },
    {
     "data": {
      "image/png": "[encoded data removed]",
      "text/plain": [
       "<Figure size 432x288 with 1 Axes>"
      ]
     },
     "metadata": {
      "needs_background": "light"
     },
     "output_type": "display_data"
    }
   ],
   "source": [
    "import numpy as np\n",
    "\n",
    "for target in  ['strain', 'serotype']:\n",
    "    print(target)\n",
    "    size = n if target=='strain' else N\n",
    "    ja = [x[2] for x in stat[target] if x[1]=='jaccard']\n",
    "    rk = [x[2] for x in stat[target] if x[1]=='rank']\n",
    "    wt = [x[2] for x in stat[target] if x[1]=='weighted']\n",
    "    my_stat = []\n",
    "    for topn in range(1, 6):\n",
    "        my_stat.append([topn, ja[topn-1]/size, rk[topn-1]/size, wt[topn-1]/size])\n",
    "    my_array = np.array(my_stat, dtype=object)\n",
    "    # print(my_array)\n",
    "    df = pd.DataFrame(my_array, columns = ['TopN','Jaccard','Rank', 'Weighted'])\n",
    "    print(df)\n",
    "    title = f\"{target} identification\".title()\n",
    "    df.plot(x='TopN',y=['Jaccard','Rank', 'Weighted'], title=title)"
   ]
  },
  {
   "cell_type": "code",
   "execution_count": null,
   "id": "1aa4a571",
   "metadata": {},
   "outputs": [],
   "source": []
  },
  {
   "cell_type": "code",
   "execution_count": null,
   "id": "d57a53b2",
   "metadata": {},
   "outputs": [],
   "source": []
  }
 ],
 "metadata": {
  "kernelspec": {
   "display_name": "Python 3",
   "language": "python",
   "name": "python3"
  },
  "language_info": {
   "codemirror_mode": {
    "name": "ipython",
    "version": 3
   },
   "file_extension": ".py",
   "mimetype": "text/x-python",
   "name": "python",
   "nbconvert_exporter": "python",
   "pygments_lexer": "ipython3",
   "version": "3.8.5"
  }
 },
 "nbformat": 4,
 "nbformat_minor": 5
}
